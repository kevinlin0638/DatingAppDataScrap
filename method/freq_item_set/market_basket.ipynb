{
 "nbformat": 4,
 "nbformat_minor": 0,
 "metadata": {
  "colab": {
   "provenance": []
  },
  "kernelspec": {
   "name": "python3",
   "display_name": "Python 3"
  },
  "language_info": {
   "name": "python"
  }
 },
 "cells": [
  {
   "cell_type": "markdown",
   "source": [
    "# 0 Init"
   ],
   "metadata": {
    "id": "8Hs_PuUB9h-3"
   }
  },
  {
   "cell_type": "code",
   "execution_count": null,
   "metadata": {
    "colab": {
     "base_uri": "https://localhost:8080/"
    },
    "id": "cLv5Q2eE9SPb",
    "outputId": "83bced53-0d28-4a67-c019-8d76cf1e5fad"
   },
   "outputs": [
    {
     "output_type": "stream",
     "name": "stdout",
     "text": [
      "Drive already mounted at /content/drive; to attempt to forcibly remount, call drive.mount(\"/content/drive\", force_remount=True).\n"
     ]
    }
   ],
   "source": [
    "from google.colab import drive\n",
    "drive.mount('/content/drive')"
   ]
  },
  {
   "cell_type": "code",
   "source": [
    "%cd /content/drive/MyDrive/NUS_MSBA/CS5344/CS5344 project/dataset"
   ],
   "metadata": {
    "colab": {
     "base_uri": "https://localhost:8080/"
    },
    "id": "iqj4c27q9cci",
    "outputId": "6582e696-e176-4cf4-fa69-39827537bf21"
   },
   "execution_count": null,
   "outputs": [
    {
     "output_type": "stream",
     "name": "stdout",
     "text": [
      "/content/drive/MyDrive/NUS_MSBA/CS5344/CS5344 project/dataset\n"
     ]
    }
   ]
  },
  {
   "cell_type": "code",
   "source": [
    "!pip install mlxtend"
   ],
   "metadata": {
    "colab": {
     "base_uri": "https://localhost:8080/"
    },
    "id": "kqIjUjc3_EXY",
    "outputId": "6f9bd03d-c04c-41aa-ffd5-f0dc51caa8e3"
   },
   "execution_count": null,
   "outputs": [
    {
     "output_type": "stream",
     "name": "stdout",
     "text": [
      "Requirement already satisfied: mlxtend in /usr/local/lib/python3.10/dist-packages (0.22.0)\n",
      "Requirement already satisfied: scipy>=1.2.1 in /usr/local/lib/python3.10/dist-packages (from mlxtend) (1.11.3)\n",
      "Requirement already satisfied: numpy>=1.16.2 in /usr/local/lib/python3.10/dist-packages (from mlxtend) (1.23.5)\n",
      "Requirement already satisfied: pandas>=0.24.2 in /usr/local/lib/python3.10/dist-packages (from mlxtend) (1.5.3)\n",
      "Requirement already satisfied: scikit-learn>=1.0.2 in /usr/local/lib/python3.10/dist-packages (from mlxtend) (1.2.2)\n",
      "Requirement already satisfied: matplotlib>=3.0.0 in /usr/local/lib/python3.10/dist-packages (from mlxtend) (3.7.1)\n",
      "Requirement already satisfied: joblib>=0.13.2 in /usr/local/lib/python3.10/dist-packages (from mlxtend) (1.3.2)\n",
      "Requirement already satisfied: setuptools in /usr/local/lib/python3.10/dist-packages (from mlxtend) (67.7.2)\n",
      "Requirement already satisfied: contourpy>=1.0.1 in /usr/local/lib/python3.10/dist-packages (from matplotlib>=3.0.0->mlxtend) (1.2.0)\n",
      "Requirement already satisfied: cycler>=0.10 in /usr/local/lib/python3.10/dist-packages (from matplotlib>=3.0.0->mlxtend) (0.12.1)\n",
      "Requirement already satisfied: fonttools>=4.22.0 in /usr/local/lib/python3.10/dist-packages (from matplotlib>=3.0.0->mlxtend) (4.44.3)\n",
      "Requirement already satisfied: kiwisolver>=1.0.1 in /usr/local/lib/python3.10/dist-packages (from matplotlib>=3.0.0->mlxtend) (1.4.5)\n",
      "Requirement already satisfied: packaging>=20.0 in /usr/local/lib/python3.10/dist-packages (from matplotlib>=3.0.0->mlxtend) (23.2)\n",
      "Requirement already satisfied: pillow>=6.2.0 in /usr/local/lib/python3.10/dist-packages (from matplotlib>=3.0.0->mlxtend) (9.4.0)\n",
      "Requirement already satisfied: pyparsing>=2.3.1 in /usr/local/lib/python3.10/dist-packages (from matplotlib>=3.0.0->mlxtend) (3.1.1)\n",
      "Requirement already satisfied: python-dateutil>=2.7 in /usr/local/lib/python3.10/dist-packages (from matplotlib>=3.0.0->mlxtend) (2.8.2)\n",
      "Requirement already satisfied: pytz>=2020.1 in /usr/local/lib/python3.10/dist-packages (from pandas>=0.24.2->mlxtend) (2023.3.post1)\n",
      "Requirement already satisfied: threadpoolctl>=2.0.0 in /usr/local/lib/python3.10/dist-packages (from scikit-learn>=1.0.2->mlxtend) (3.2.0)\n",
      "Requirement already satisfied: six>=1.5 in /usr/local/lib/python3.10/dist-packages (from python-dateutil>=2.7->matplotlib>=3.0.0->mlxtend) (1.16.0)\n"
     ]
    }
   ]
  },
  {
   "cell_type": "code",
   "source": [
    "import csv\n",
    "import os\n",
    "import json\n",
    "import argparse\n",
    "import random\n",
    "import re\n",
    "import pandas as pd\n",
    "import numpy as np\n",
    "import matplotlib.pyplot as plt\n",
    "from collections import Counter\n",
    "\n",
    "\n",
    "\n",
    "from tqdm import tqdm\n",
    "\n",
    "# # spelling\n",
    "# from spellchecker import SpellChecker\n",
    "\n",
    "# nltk\n",
    "import nltk\n",
    "from nltk.corpus import stopwords\n",
    "\n",
    "# from nltk.stem import PorterStemmer\n",
    "# from nltk.tokenize import word_tokenize\n",
    "\n",
    "# # language detector\n",
    "# from langdetect import detect\n",
    "# from langdetect import DetectorFactory\n",
    "# DetectorFactory.seed = 0\n",
    "\n",
    "from mlxtend.frequent_patterns import apriori, association_rules\n",
    "from mlxtend.preprocessing import TransactionEncoder\n",
    "\n",
    "# 'here_for,'smoke','drink', 'match_age'\n",
    "union_meta = ['scam','username','age','gender','location','ethnicity','occupation','marital_status','children','religion','sexual_orientation','sex', 'description']\n",
    "\n",
    "scam_meta = ['email']\n",
    "\n",
    "tqdm.pandas()\n",
    "nltk.download('stopwords')\n",
    "nltk.download('punkt')"
   ],
   "metadata": {
    "colab": {
     "base_uri": "https://localhost:8080/"
    },
    "id": "VE1SDPeS9doQ",
    "outputId": "27928d83-833b-4d34-977a-84799f6e1396"
   },
   "execution_count": null,
   "outputs": [
    {
     "output_type": "stream",
     "name": "stderr",
     "text": [
      "[nltk_data] Downloading package stopwords to /root/nltk_data...\n",
      "[nltk_data]   Unzipping corpora/stopwords.zip.\n",
      "[nltk_data] Downloading package punkt to /root/nltk_data...\n",
      "[nltk_data]   Unzipping tokenizers/punkt.zip.\n"
     ]
    },
    {
     "output_type": "execute_result",
     "data": {
      "text/plain": [
       "True"
      ]
     },
     "metadata": {},
     "execution_count": 4
    }
   ]
  },
  {
   "cell_type": "code",
   "source": [
    "all_profile = pd.read_csv(\"processed_data.csv\")"
   ],
   "metadata": {
    "id": "56UmzLwt9gbQ",
    "colab": {
     "base_uri": "https://localhost:8080/"
    },
    "outputId": "68e29ed2-c0a7-4527-adda-3facbd565166"
   },
   "execution_count": null,
   "outputs": [
    {
     "output_type": "stream",
     "name": "stderr",
     "text": [
      "/usr/local/lib/python3.10/dist-packages/ipykernel/ipkernel.py:283: DeprecationWarning: `should_run_async` will not call `transform_cell` automatically in the future. Please pass the result to `transformed_cell` argument and any exception that happen during thetransform in `preprocessing_exc_tuple` in IPython 7.17 and above.\n",
      "  and should_run_async(code)\n"
     ]
    }
   ]
  },
  {
   "cell_type": "markdown",
   "source": [
    "# 2 Market Basket for Attributes"
   ],
   "metadata": {
    "id": "7NnDkEkE9uPs"
   }
  },
  {
   "cell_type": "code",
   "source": [
    "attribute_col = ['username','scam','age_bin','gender','location','ethnicity','marital_status','children','religion','sexual_orientation']\n",
    "basket_col = ['scam','age_bin','gender','location','ethnicity','marital_status','children','religion','sexual_orientation']\n",
    "\n",
    "all_profile_attribute = all_profile[attribute_col]\n",
    "all_profile_attribute.dropna(subset=['username'], inplace=True)\n",
    "all_profile_attribute.set_index('username', inplace=True)\n",
    "\n",
    "# scam and non-scam\n",
    "all_profile_attribute_scam = all_profile_attribute[all_profile_attribute['scam'] == 1]\n",
    "all_profile_attribute_nonscam = all_profile_attribute[all_profile_attribute['scam'] == 0]"
   ],
   "metadata": {
    "colab": {
     "base_uri": "https://localhost:8080/"
    },
    "id": "M6hqBPM698U9",
    "outputId": "e6a245c5-6a49-4933-e2ae-722c576ec8bf"
   },
   "execution_count": null,
   "outputs": [
    {
     "output_type": "stream",
     "name": "stderr",
     "text": [
      "/usr/local/lib/python3.10/dist-packages/ipykernel/ipkernel.py:283: DeprecationWarning: `should_run_async` will not call `transform_cell` automatically in the future. Please pass the result to `transformed_cell` argument and any exception that happen during thetransform in `preprocessing_exc_tuple` in IPython 7.17 and above.\n",
      "  and should_run_async(code)\n",
      "<ipython-input-6-9e542e687be6>:5: SettingWithCopyWarning: \n",
      "A value is trying to be set on a copy of a slice from a DataFrame\n",
      "\n",
      "See the caveats in the documentation: https://pandas.pydata.org/pandas-docs/stable/user_guide/indexing.html#returning-a-view-versus-a-copy\n",
      "  all_profile_attribute.dropna(subset=['username'], inplace=True)\n"
     ]
    }
   ]
  },
  {
   "cell_type": "code",
   "source": [
    "# change column value into \"col name - value\" format\n",
    "def transform_row(row):\n",
    "    return [f\"{column} - {value}\" for column, value in row.items() if pd.notna(value)]\n",
    "\n",
    "all_profile_attribute_scam_b = all_profile_attribute_scam[basket_col].apply(transform_row, axis=1)\n",
    "all_profile_attribute_nonscam_b = all_profile_attribute_nonscam[basket_col].apply(transform_row, axis=1)"
   ],
   "metadata": {
    "colab": {
     "base_uri": "https://localhost:8080/"
    },
    "id": "9QBw-2ru-4Hn",
    "outputId": "e602cba5-1c31-4c79-87a5-63aed4707aae"
   },
   "execution_count": null,
   "outputs": [
    {
     "output_type": "stream",
     "name": "stderr",
     "text": [
      "/usr/local/lib/python3.10/dist-packages/ipykernel/ipkernel.py:283: DeprecationWarning: `should_run_async` will not call `transform_cell` automatically in the future. Please pass the result to `transformed_cell` argument and any exception that happen during thetransform in `preprocessing_exc_tuple` in IPython 7.17 and above.\n",
      "  and should_run_async(code)\n"
     ]
    }
   ]
  },
  {
   "cell_type": "code",
   "source": [
    "all_profile_attribute_scam_b"
   ],
   "metadata": {
    "colab": {
     "base_uri": "https://localhost:8080/"
    },
    "id": "T8gFW_6qANGF",
    "outputId": "98e1d3d8-b7a6-4539-87dc-cb0a40d83367"
   },
   "execution_count": null,
   "outputs": [
    {
     "output_type": "stream",
     "name": "stderr",
     "text": [
      "/usr/local/lib/python3.10/dist-packages/ipykernel/ipkernel.py:283: DeprecationWarning: `should_run_async` will not call `transform_cell` automatically in the future. Please pass the result to `transformed_cell` argument and any exception that happen during thetransform in `preprocessing_exc_tuple` in IPython 7.17 and above.\n",
      "  and should_run_async(code)\n"
     ]
    },
    {
     "output_type": "execute_result",
     "data": {
      "text/plain": [
       "username\n",
       "kaylabrandy19          [scam - 1, age_bin - 31-40, gender - female, l...\n",
       "queenpam288            [scam - 1, age_bin - 21-30, gender - female, l...\n",
       "victoriaia             [scam - 1, age_bin - 41-50, gender - female, l...\n",
       "harlimosely            [scam - 1, age_bin - 31-40, gender - female, l...\n",
       "martha1010             [scam - 1, age_bin - 31-40, gender - female, m...\n",
       "                                             ...                        \n",
       "ryandad8               [scam - 1, age_bin - 41-50, gender - male, loc...\n",
       "marcusw670             [scam - 1, age_bin - 51-60, gender - male, loc...\n",
       "marcusw670             [scam - 1, age_bin - 51-60, gender - male, loc...\n",
       "lovelessmichaelklus    [scam - 1, age_bin - 41-50, gender - male, loc...\n",
       "lovelessmichaelklus    [scam - 1, age_bin - 41-50, gender - male, loc...\n",
       "Length: 6064, dtype: object"
      ]
     },
     "metadata": {},
     "execution_count": 8
    }
   ]
  },
  {
   "cell_type": "code",
   "source": [
    "def onehot_enc(df):\n",
    "  encoder = TransactionEncoder().fit(df)\n",
    "  onehot = encoder.transform(df)\n",
    "  df = pd.DataFrame(onehot, columns = encoder.columns_)\n",
    "  return df"
   ],
   "metadata": {
    "colab": {
     "base_uri": "https://localhost:8080/"
    },
    "id": "o-VqbeO8BKrX",
    "outputId": "7812afe7-43c8-49a1-9d70-86e89f2209cd"
   },
   "execution_count": null,
   "outputs": [
    {
     "output_type": "stream",
     "name": "stderr",
     "text": [
      "/usr/local/lib/python3.10/dist-packages/ipykernel/ipkernel.py:283: DeprecationWarning: `should_run_async` will not call `transform_cell` automatically in the future. Please pass the result to `transformed_cell` argument and any exception that happen during thetransform in `preprocessing_exc_tuple` in IPython 7.17 and above.\n",
      "  and should_run_async(code)\n"
     ]
    }
   ]
  },
  {
   "cell_type": "code",
   "source": [
    "all_profile_attribute_scam_enc = onehot_enc(all_profile_attribute_scam_b)\n",
    "all_profile_attribute_nonscam_enc = onehot_enc(all_profile_attribute_nonscam_b)\n"
   ],
   "metadata": {
    "colab": {
     "base_uri": "https://localhost:8080/"
    },
    "id": "aM0t4NneCWFh",
    "outputId": "d7adff14-3f60-4070-b827-b821f151b1df"
   },
   "execution_count": null,
   "outputs": [
    {
     "output_type": "stream",
     "name": "stderr",
     "text": [
      "/usr/local/lib/python3.10/dist-packages/ipykernel/ipkernel.py:283: DeprecationWarning: `should_run_async` will not call `transform_cell` automatically in the future. Please pass the result to `transformed_cell` argument and any exception that happen during thetransform in `preprocessing_exc_tuple` in IPython 7.17 and above.\n",
      "  and should_run_async(code)\n"
     ]
    }
   ]
  },
  {
   "cell_type": "code",
   "source": [
    "# Run Apriori algorithm to find frequent itemsets\n",
    "frequent_itemsets = apriori(all_profile_attribute_scam_enc, min_support=0.2, use_colnames=True)\n",
    "\n",
    "# Generate association rules\n",
    "scam_rules_raw = association_rules(frequent_itemsets, metric=\"lift\", min_threshold=1)\n",
    "scam_rules_raw = scam_rules_raw[scam_rules_raw['consequents'] == {'scam - 1'}]"
   ],
   "metadata": {
    "colab": {
     "base_uri": "https://localhost:8080/"
    },
    "id": "bFoqP3mdDDvs",
    "outputId": "78dbcc05-b2d6-4724-cfe5-770c836cb830"
   },
   "execution_count": null,
   "outputs": [
    {
     "output_type": "stream",
     "name": "stderr",
     "text": [
      "/usr/local/lib/python3.10/dist-packages/ipykernel/ipkernel.py:283: DeprecationWarning: `should_run_async` will not call `transform_cell` automatically in the future. Please pass the result to `transformed_cell` argument and any exception that happen during thetransform in `preprocessing_exc_tuple` in IPython 7.17 and above.\n",
      "  and should_run_async(code)\n"
     ]
    }
   ]
  },
  {
   "cell_type": "code",
   "source": [
    "# Run Apriori algorithm to find frequent itemsets\n",
    "frequent_itemsets = apriori(all_profile_attribute_nonscam_enc, min_support=0.2, use_colnames=True)\n",
    "\n",
    "# Generate association rules\n",
    "nonscam_rules_raw = association_rules(frequent_itemsets, metric=\"lift\", min_threshold=1)\n",
    "nonscam_rules_raw = nonscam_rules_raw[nonscam_rules_raw['consequents'] == {'scam - 0'}]"
   ],
   "metadata": {
    "colab": {
     "base_uri": "https://localhost:8080/"
    },
    "id": "YOQ1OXJCGSFa",
    "outputId": "2336c0e5-b0af-4da9-8df7-cb55e8497717"
   },
   "execution_count": null,
   "outputs": [
    {
     "output_type": "stream",
     "name": "stderr",
     "text": [
      "/usr/local/lib/python3.10/dist-packages/ipykernel/ipkernel.py:283: DeprecationWarning: `should_run_async` will not call `transform_cell` automatically in the future. Please pass the result to `transformed_cell` argument and any exception that happen during thetransform in `preprocessing_exc_tuple` in IPython 7.17 and above.\n",
      "  and should_run_async(code)\n"
     ]
    }
   ]
  },
  {
   "cell_type": "code",
   "source": [
    "# remove duplicates\n",
    "scam_antecedents_set = set(scam_rules_raw['antecedents'])\n",
    "nonscam_antecedents_set = set(nonscam_rules_raw['antecedents'])\n",
    "\n",
    "scam_antecedents_set_processed = scam_antecedents_set - nonscam_antecedents_set\n",
    "nonscam_antecedents_set_processed = nonscam_antecedents_set - scam_antecedents_set\n",
    "\n",
    "scam_rules = scam_rules_raw[scam_rules_raw['antecedents'].isin(scam_antecedents_set_processed)]\n",
    "nonscam_rules = nonscam_rules_raw[nonscam_rules_raw['antecedents'].isin(nonscam_antecedents_set_processed)]"
   ],
   "metadata": {
    "colab": {
     "base_uri": "https://localhost:8080/"
    },
    "id": "Mp0LXb2D9Q7P",
    "outputId": "527cfe8b-92d4-4887-ae29-cf8d0488195b"
   },
   "execution_count": null,
   "outputs": [
    {
     "output_type": "stream",
     "name": "stderr",
     "text": [
      "/usr/local/lib/python3.10/dist-packages/ipykernel/ipkernel.py:283: DeprecationWarning: `should_run_async` will not call `transform_cell` automatically in the future. Please pass the result to `transformed_cell` argument and any exception that happen during thetransform in `preprocessing_exc_tuple` in IPython 7.17 and above.\n",
      "  and should_run_async(code)\n"
     ]
    }
   ]
  },
  {
   "cell_type": "code",
   "source": [
    "scam_rules_top7 = scam_rules[['antecedents', 'consequents', 'support']].sort_values(by='support', ascending=False)\n",
    "scam_rules_top7.to_csv(\"scam_rules_top7.csv\")"
   ],
   "metadata": {
    "colab": {
     "base_uri": "https://localhost:8080/"
    },
    "id": "0JQnPGKCGetm",
    "outputId": "28dc033a-1c1a-42eb-ad21-d99dc0e3719e"
   },
   "execution_count": null,
   "outputs": [
    {
     "output_type": "stream",
     "name": "stderr",
     "text": [
      "/usr/local/lib/python3.10/dist-packages/ipykernel/ipkernel.py:283: DeprecationWarning: `should_run_async` will not call `transform_cell` automatically in the future. Please pass the result to `transformed_cell` argument and any exception that happen during thetransform in `preprocessing_exc_tuple` in IPython 7.17 and above.\n",
      "  and should_run_async(code)\n"
     ]
    }
   ]
  },
  {
   "cell_type": "code",
   "source": [
    "nonscam_rules_top7 = nonscam_rules[['antecedents', 'consequents', 'support']].sort_values(by='support', ascending=False)[:7]\n",
    "nonscam_rules_top7.to_csv(\"nonscam_rules_top7.csv\")"
   ],
   "metadata": {
    "colab": {
     "base_uri": "https://localhost:8080/"
    },
    "id": "mihWTQpdGiC4",
    "outputId": "093c0d93-1dca-4c4a-87b9-214a3657a64b"
   },
   "execution_count": null,
   "outputs": [
    {
     "output_type": "stream",
     "name": "stderr",
     "text": [
      "/usr/local/lib/python3.10/dist-packages/ipykernel/ipkernel.py:283: DeprecationWarning: `should_run_async` will not call `transform_cell` automatically in the future. Please pass the result to `transformed_cell` argument and any exception that happen during thetransform in `preprocessing_exc_tuple` in IPython 7.17 and above.\n",
      "  and should_run_async(code)\n"
     ]
    }
   ]
  },
  {
   "cell_type": "code",
   "source": [
    "scam_rules_top7 = [set(x) for x in scam_rules_top7['antecedents']]\n",
    "nonscam_rules_top7 = [set(x) for x in nonscam_rules_top7['antecedents']]"
   ],
   "metadata": {
    "colab": {
     "base_uri": "https://localhost:8080/"
    },
    "id": "8gJlVTYyR3Fk",
    "outputId": "7691e65b-1fba-48ea-cb07-6d3b95e25831"
   },
   "execution_count": null,
   "outputs": [
    {
     "output_type": "stream",
     "name": "stderr",
     "text": [
      "/usr/local/lib/python3.10/dist-packages/ipykernel/ipkernel.py:283: DeprecationWarning: `should_run_async` will not call `transform_cell` automatically in the future. Please pass the result to `transformed_cell` argument and any exception that happen during thetransform in `preprocessing_exc_tuple` in IPython 7.17 and above.\n",
      "  and should_run_async(code)\n"
     ]
    }
   ]
  },
  {
   "cell_type": "markdown",
   "source": [
    "# 4 Validation"
   ],
   "metadata": {
    "id": "Bq9qdgSoGzw8"
   }
  },
  {
   "cell_type": "code",
   "source": [
    "seed_value = 99999\n",
    "np.random.seed(seed_value)\n",
    "\n",
    "sample_size = 500"
   ],
   "metadata": {
    "colab": {
     "base_uri": "https://localhost:8080/"
    },
    "id": "sPADvfgTGzUf",
    "outputId": "970117e6-b28e-4899-985c-0e8eec7ed4b9"
   },
   "execution_count": null,
   "outputs": [
    {
     "output_type": "stream",
     "name": "stderr",
     "text": [
      "/usr/local/lib/python3.10/dist-packages/ipykernel/ipkernel.py:283: DeprecationWarning: `should_run_async` will not call `transform_cell` automatically in the future. Please pass the result to `transformed_cell` argument and any exception that happen during thetransform in `preprocessing_exc_tuple` in IPython 7.17 and above.\n",
      "  and should_run_async(code)\n"
     ]
    }
   ]
  },
  {
   "cell_type": "code",
   "source": [
    "# samples_scam = pd.DataFrame(all_profile_attribute_scam_b.sample(n=sample_size, random_state=seed_value))\n",
    "# samples_nonscam = pd.DataFrame(all_profile_attribute_nonscam_b.sample(n=sample_size, random_state=seed_value))\n",
    "\n",
    "samples_scam = pd.DataFrame(all_profile_attribute_scam_b)\n",
    "samples_nonscam = pd.DataFrame(all_profile_attribute_nonscam_b)\n",
    "\n",
    "samples_scam"
   ],
   "metadata": {
    "colab": {
     "base_uri": "https://localhost:8080/",
     "height": 509
    },
    "id": "ot2FeujVHbLs",
    "outputId": "2d598459-583c-47d3-ee12-37e9b78e5122"
   },
   "execution_count": null,
   "outputs": [
    {
     "output_type": "stream",
     "name": "stderr",
     "text": [
      "/usr/local/lib/python3.10/dist-packages/ipykernel/ipkernel.py:283: DeprecationWarning: `should_run_async` will not call `transform_cell` automatically in the future. Please pass the result to `transformed_cell` argument and any exception that happen during thetransform in `preprocessing_exc_tuple` in IPython 7.17 and above.\n",
      "  and should_run_async(code)\n"
     ]
    },
    {
     "output_type": "execute_result",
     "data": {
      "text/plain": [
       "                                                                     0\n",
       "username                                                              \n",
       "kaylabrandy19        [scam - 1, age_bin - 31-40, gender - female, l...\n",
       "queenpam288          [scam - 1, age_bin - 21-30, gender - female, l...\n",
       "victoriaia           [scam - 1, age_bin - 41-50, gender - female, l...\n",
       "harlimosely          [scam - 1, age_bin - 31-40, gender - female, l...\n",
       "martha1010           [scam - 1, age_bin - 31-40, gender - female, m...\n",
       "...                                                                ...\n",
       "ryandad8             [scam - 1, age_bin - 41-50, gender - male, loc...\n",
       "marcusw670           [scam - 1, age_bin - 51-60, gender - male, loc...\n",
       "marcusw670           [scam - 1, age_bin - 51-60, gender - male, loc...\n",
       "lovelessmichaelklus  [scam - 1, age_bin - 41-50, gender - male, loc...\n",
       "lovelessmichaelklus  [scam - 1, age_bin - 41-50, gender - male, loc...\n",
       "\n",
       "[6064 rows x 1 columns]"
      ],
      "text/html": [
       "\n",
       "  <div id=\"df-fba5be14-81b6-4819-8fd2-4f228e593bf8\" class=\"colab-df-container\">\n",
       "    <div>\n",
       "<style scoped>\n",
       "    .dataframe tbody tr th:only-of-type {\n",
       "        vertical-align: middle;\n",
       "    }\n",
       "\n",
       "    .dataframe tbody tr th {\n",
       "        vertical-align: top;\n",
       "    }\n",
       "\n",
       "    .dataframe thead th {\n",
       "        text-align: right;\n",
       "    }\n",
       "</style>\n",
       "<table border=\"1\" class=\"dataframe\">\n",
       "  <thead>\n",
       "    <tr style=\"text-align: right;\">\n",
       "      <th></th>\n",
       "      <th>0</th>\n",
       "    </tr>\n",
       "    <tr>\n",
       "      <th>username</th>\n",
       "      <th></th>\n",
       "    </tr>\n",
       "  </thead>\n",
       "  <tbody>\n",
       "    <tr>\n",
       "      <th>kaylabrandy19</th>\n",
       "      <td>[scam - 1, age_bin - 31-40, gender - female, l...</td>\n",
       "    </tr>\n",
       "    <tr>\n",
       "      <th>queenpam288</th>\n",
       "      <td>[scam - 1, age_bin - 21-30, gender - female, l...</td>\n",
       "    </tr>\n",
       "    <tr>\n",
       "      <th>victoriaia</th>\n",
       "      <td>[scam - 1, age_bin - 41-50, gender - female, l...</td>\n",
       "    </tr>\n",
       "    <tr>\n",
       "      <th>harlimosely</th>\n",
       "      <td>[scam - 1, age_bin - 31-40, gender - female, l...</td>\n",
       "    </tr>\n",
       "    <tr>\n",
       "      <th>martha1010</th>\n",
       "      <td>[scam - 1, age_bin - 31-40, gender - female, m...</td>\n",
       "    </tr>\n",
       "    <tr>\n",
       "      <th>...</th>\n",
       "      <td>...</td>\n",
       "    </tr>\n",
       "    <tr>\n",
       "      <th>ryandad8</th>\n",
       "      <td>[scam - 1, age_bin - 41-50, gender - male, loc...</td>\n",
       "    </tr>\n",
       "    <tr>\n",
       "      <th>marcusw670</th>\n",
       "      <td>[scam - 1, age_bin - 51-60, gender - male, loc...</td>\n",
       "    </tr>\n",
       "    <tr>\n",
       "      <th>marcusw670</th>\n",
       "      <td>[scam - 1, age_bin - 51-60, gender - male, loc...</td>\n",
       "    </tr>\n",
       "    <tr>\n",
       "      <th>lovelessmichaelklus</th>\n",
       "      <td>[scam - 1, age_bin - 41-50, gender - male, loc...</td>\n",
       "    </tr>\n",
       "    <tr>\n",
       "      <th>lovelessmichaelklus</th>\n",
       "      <td>[scam - 1, age_bin - 41-50, gender - male, loc...</td>\n",
       "    </tr>\n",
       "  </tbody>\n",
       "</table>\n",
       "<p>6064 rows × 1 columns</p>\n",
       "</div>\n",
       "    <div class=\"colab-df-buttons\">\n",
       "\n",
       "  <div class=\"colab-df-container\">\n",
       "    <button class=\"colab-df-convert\" onclick=\"convertToInteractive('df-fba5be14-81b6-4819-8fd2-4f228e593bf8')\"\n",
       "            title=\"Convert this dataframe to an interactive table.\"\n",
       "            style=\"display:none;\">\n",
       "\n",
       "  <svg xmlns=\"http://www.w3.org/2000/svg\" height=\"24px\" viewBox=\"0 -960 960 960\">\n",
       "    <path d=\"M120-120v-720h720v720H120Zm60-500h600v-160H180v160Zm220 220h160v-160H400v160Zm0 220h160v-160H400v160ZM180-400h160v-160H180v160Zm440 0h160v-160H620v160ZM180-180h160v-160H180v160Zm440 0h160v-160H620v160Z\"/>\n",
       "  </svg>\n",
       "    </button>\n",
       "\n",
       "  <style>\n",
       "    .colab-df-container {\n",
       "      display:flex;\n",
       "      gap: 12px;\n",
       "    }\n",
       "\n",
       "    .colab-df-convert {\n",
       "      background-color: #E8F0FE;\n",
       "      border: none;\n",
       "      border-radius: 50%;\n",
       "      cursor: pointer;\n",
       "      display: none;\n",
       "      fill: #1967D2;\n",
       "      height: 32px;\n",
       "      padding: 0 0 0 0;\n",
       "      width: 32px;\n",
       "    }\n",
       "\n",
       "    .colab-df-convert:hover {\n",
       "      background-color: #E2EBFA;\n",
       "      box-shadow: 0px 1px 2px rgba(60, 64, 67, 0.3), 0px 1px 3px 1px rgba(60, 64, 67, 0.15);\n",
       "      fill: #174EA6;\n",
       "    }\n",
       "\n",
       "    .colab-df-buttons div {\n",
       "      margin-bottom: 4px;\n",
       "    }\n",
       "\n",
       "    [theme=dark] .colab-df-convert {\n",
       "      background-color: #3B4455;\n",
       "      fill: #D2E3FC;\n",
       "    }\n",
       "\n",
       "    [theme=dark] .colab-df-convert:hover {\n",
       "      background-color: #434B5C;\n",
       "      box-shadow: 0px 1px 3px 1px rgba(0, 0, 0, 0.15);\n",
       "      filter: drop-shadow(0px 1px 2px rgba(0, 0, 0, 0.3));\n",
       "      fill: #FFFFFF;\n",
       "    }\n",
       "  </style>\n",
       "\n",
       "    <script>\n",
       "      const buttonEl =\n",
       "        document.querySelector('#df-fba5be14-81b6-4819-8fd2-4f228e593bf8 button.colab-df-convert');\n",
       "      buttonEl.style.display =\n",
       "        google.colab.kernel.accessAllowed ? 'block' : 'none';\n",
       "\n",
       "      async function convertToInteractive(key) {\n",
       "        const element = document.querySelector('#df-fba5be14-81b6-4819-8fd2-4f228e593bf8');\n",
       "        const dataTable =\n",
       "          await google.colab.kernel.invokeFunction('convertToInteractive',\n",
       "                                                    [key], {});\n",
       "        if (!dataTable) return;\n",
       "\n",
       "        const docLinkHtml = 'Like what you see? Visit the ' +\n",
       "          '<a target=\"_blank\" href=https://colab.research.google.com/notebooks/data_table.ipynb>data table notebook</a>'\n",
       "          + ' to learn more about interactive tables.';\n",
       "        element.innerHTML = '';\n",
       "        dataTable['output_type'] = 'display_data';\n",
       "        await google.colab.output.renderOutput(dataTable, element);\n",
       "        const docLink = document.createElement('div');\n",
       "        docLink.innerHTML = docLinkHtml;\n",
       "        element.appendChild(docLink);\n",
       "      }\n",
       "    </script>\n",
       "  </div>\n",
       "\n",
       "\n",
       "<div id=\"df-07419c8c-28ac-4072-abe1-05aba847aaf5\">\n",
       "  <button class=\"colab-df-quickchart\" onclick=\"quickchart('df-07419c8c-28ac-4072-abe1-05aba847aaf5')\"\n",
       "            title=\"Suggest charts\"\n",
       "            style=\"display:none;\">\n",
       "\n",
       "<svg xmlns=\"http://www.w3.org/2000/svg\" height=\"24px\"viewBox=\"0 0 24 24\"\n",
       "     width=\"24px\">\n",
       "    <g>\n",
       "        <path d=\"M19 3H5c-1.1 0-2 .9-2 2v14c0 1.1.9 2 2 2h14c1.1 0 2-.9 2-2V5c0-1.1-.9-2-2-2zM9 17H7v-7h2v7zm4 0h-2V7h2v10zm4 0h-2v-4h2v4z\"/>\n",
       "    </g>\n",
       "</svg>\n",
       "  </button>\n",
       "\n",
       "<style>\n",
       "  .colab-df-quickchart {\n",
       "      --bg-color: #E8F0FE;\n",
       "      --fill-color: #1967D2;\n",
       "      --hover-bg-color: #E2EBFA;\n",
       "      --hover-fill-color: #174EA6;\n",
       "      --disabled-fill-color: #AAA;\n",
       "      --disabled-bg-color: #DDD;\n",
       "  }\n",
       "\n",
       "  [theme=dark] .colab-df-quickchart {\n",
       "      --bg-color: #3B4455;\n",
       "      --fill-color: #D2E3FC;\n",
       "      --hover-bg-color: #434B5C;\n",
       "      --hover-fill-color: #FFFFFF;\n",
       "      --disabled-bg-color: #3B4455;\n",
       "      --disabled-fill-color: #666;\n",
       "  }\n",
       "\n",
       "  .colab-df-quickchart {\n",
       "    background-color: var(--bg-color);\n",
       "    border: none;\n",
       "    border-radius: 50%;\n",
       "    cursor: pointer;\n",
       "    display: none;\n",
       "    fill: var(--fill-color);\n",
       "    height: 32px;\n",
       "    padding: 0;\n",
       "    width: 32px;\n",
       "  }\n",
       "\n",
       "  .colab-df-quickchart:hover {\n",
       "    background-color: var(--hover-bg-color);\n",
       "    box-shadow: 0 1px 2px rgba(60, 64, 67, 0.3), 0 1px 3px 1px rgba(60, 64, 67, 0.15);\n",
       "    fill: var(--button-hover-fill-color);\n",
       "  }\n",
       "\n",
       "  .colab-df-quickchart-complete:disabled,\n",
       "  .colab-df-quickchart-complete:disabled:hover {\n",
       "    background-color: var(--disabled-bg-color);\n",
       "    fill: var(--disabled-fill-color);\n",
       "    box-shadow: none;\n",
       "  }\n",
       "\n",
       "  .colab-df-spinner {\n",
       "    border: 2px solid var(--fill-color);\n",
       "    border-color: transparent;\n",
       "    border-bottom-color: var(--fill-color);\n",
       "    animation:\n",
       "      spin 1s steps(1) infinite;\n",
       "  }\n",
       "\n",
       "  @keyframes spin {\n",
       "    0% {\n",
       "      border-color: transparent;\n",
       "      border-bottom-color: var(--fill-color);\n",
       "      border-left-color: var(--fill-color);\n",
       "    }\n",
       "    20% {\n",
       "      border-color: transparent;\n",
       "      border-left-color: var(--fill-color);\n",
       "      border-top-color: var(--fill-color);\n",
       "    }\n",
       "    30% {\n",
       "      border-color: transparent;\n",
       "      border-left-color: var(--fill-color);\n",
       "      border-top-color: var(--fill-color);\n",
       "      border-right-color: var(--fill-color);\n",
       "    }\n",
       "    40% {\n",
       "      border-color: transparent;\n",
       "      border-right-color: var(--fill-color);\n",
       "      border-top-color: var(--fill-color);\n",
       "    }\n",
       "    60% {\n",
       "      border-color: transparent;\n",
       "      border-right-color: var(--fill-color);\n",
       "    }\n",
       "    80% {\n",
       "      border-color: transparent;\n",
       "      border-right-color: var(--fill-color);\n",
       "      border-bottom-color: var(--fill-color);\n",
       "    }\n",
       "    90% {\n",
       "      border-color: transparent;\n",
       "      border-bottom-color: var(--fill-color);\n",
       "    }\n",
       "  }\n",
       "</style>\n",
       "\n",
       "  <script>\n",
       "    async function quickchart(key) {\n",
       "      const quickchartButtonEl =\n",
       "        document.querySelector('#' + key + ' button');\n",
       "      quickchartButtonEl.disabled = true;  // To prevent multiple clicks.\n",
       "      quickchartButtonEl.classList.add('colab-df-spinner');\n",
       "      try {\n",
       "        const charts = await google.colab.kernel.invokeFunction(\n",
       "            'suggestCharts', [key], {});\n",
       "      } catch (error) {\n",
       "        console.error('Error during call to suggestCharts:', error);\n",
       "      }\n",
       "      quickchartButtonEl.classList.remove('colab-df-spinner');\n",
       "      quickchartButtonEl.classList.add('colab-df-quickchart-complete');\n",
       "    }\n",
       "    (() => {\n",
       "      let quickchartButtonEl =\n",
       "        document.querySelector('#df-07419c8c-28ac-4072-abe1-05aba847aaf5 button');\n",
       "      quickchartButtonEl.style.display =\n",
       "        google.colab.kernel.accessAllowed ? 'block' : 'none';\n",
       "    })();\n",
       "  </script>\n",
       "</div>\n",
       "    </div>\n",
       "  </div>\n"
      ]
     },
     "metadata": {},
     "execution_count": 18
    }
   ]
  },
  {
   "cell_type": "code",
   "source": [
    "def calculate_marks_row(row):\n",
    "    sample = set(row[0])\n",
    "    marks = 0\n",
    "\n",
    "    for scam_rule in scam_rules_top7:\n",
    "        l = len(scam_rule)\n",
    "        if scam_rule <= sample:\n",
    "            marks -= 0.5 * l\n",
    "\n",
    "    for nonscam_rule in nonscam_rules_top7:\n",
    "        l = len(nonscam_rule)\n",
    "        if nonscam_rule <= sample:\n",
    "            marks += 0.5 * l\n",
    "\n",
    "    return marks"
   ],
   "metadata": {
    "colab": {
     "base_uri": "https://localhost:8080/"
    },
    "id": "9LC-O4LDJqHy",
    "outputId": "e5685b27-c55e-4134-955b-e5a72837e3f2"
   },
   "execution_count": null,
   "outputs": [
    {
     "output_type": "stream",
     "name": "stderr",
     "text": [
      "/usr/local/lib/python3.10/dist-packages/ipykernel/ipkernel.py:283: DeprecationWarning: `should_run_async` will not call `transform_cell` automatically in the future. Please pass the result to `transformed_cell` argument and any exception that happen during thetransform in `preprocessing_exc_tuple` in IPython 7.17 and above.\n",
      "  and should_run_async(code)\n"
     ]
    }
   ]
  },
  {
   "cell_type": "code",
   "source": [
    "samples_scam['marks'] = samples_scam.progress_apply(calculate_marks_row, axis=1)\n",
    "samples_nonscam['marks'] = samples_nonscam.progress_apply(calculate_marks_row, axis=1)"
   ],
   "metadata": {
    "colab": {
     "base_uri": "https://localhost:8080/"
    },
    "id": "11LQpFUtVWJ2",
    "outputId": "6d5f1042-920a-4f5c-bcfd-53d9a3b2c577"
   },
   "execution_count": null,
   "outputs": [
    {
     "output_type": "stream",
     "name": "stderr",
     "text": [
      "/usr/local/lib/python3.10/dist-packages/ipykernel/ipkernel.py:283: DeprecationWarning: `should_run_async` will not call `transform_cell` automatically in the future. Please pass the result to `transformed_cell` argument and any exception that happen during thetransform in `preprocessing_exc_tuple` in IPython 7.17 and above.\n",
      "  and should_run_async(code)\n",
      "100%|██████████| 6064/6064 [00:00<00:00, 93581.59it/s]\n",
      "100%|██████████| 50920/50920 [00:00<00:00, 85349.66it/s]\n"
     ]
    }
   ]
  },
  {
   "cell_type": "code",
   "source": [
    "combined_samples = pd.concat([samples_scam, samples_nonscam], ignore_index=False)\n",
    "combined_samples.to_csv('fis_samples.csv')"
   ],
   "metadata": {
    "colab": {
     "base_uri": "https://localhost:8080/"
    },
    "id": "o3smRSwVUD-Q",
    "outputId": "56985180-51d6-4f79-a840-8f54dd3cde84"
   },
   "execution_count": null,
   "outputs": [
    {
     "output_type": "stream",
     "name": "stderr",
     "text": [
      "/usr/local/lib/python3.10/dist-packages/ipykernel/ipkernel.py:283: DeprecationWarning: `should_run_async` will not call `transform_cell` automatically in the future. Please pass the result to `transformed_cell` argument and any exception that happen during thetransform in `preprocessing_exc_tuple` in IPython 7.17 and above.\n",
      "  and should_run_async(code)\n"
     ]
    }
   ]
  }
 ]
}