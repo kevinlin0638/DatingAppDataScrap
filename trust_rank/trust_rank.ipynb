{
 "cells": [
  {
   "cell_type": "markdown",
   "metadata": {},
   "source": [
    "# Trust Profile as seed"
   ]
  },
  {
   "cell_type": "code",
   "execution_count": 1,
   "metadata": {},
   "outputs": [
    {
     "data": {
      "text/plain": [
       "123"
      ]
     },
     "execution_count": 1,
     "metadata": {},
     "output_type": "execute_result"
    }
   ],
   "source": [
    "import pandas as pd\n",
    "import networkx as nx\n",
    "# Read trusted profiles and create a set of trusted usernames\n",
    "trusted_profiles_df = pd.read_csv('d:/falconx/datingappdatascrap/dissimilarity/trusted_profiles_info.csv', index_col=0)\n",
    "trusted_usernames = set(trusted_profiles_df['username'])\n",
    "len(trusted_usernames)"
   ]
  },
  {
   "cell_type": "code",
   "execution_count": 5,
   "metadata": {},
   "outputs": [],
   "source": [
    "# Read user friends data and build a graph\n",
    "user_friends_df = pd.read_csv('d:/falconx/datingappdatascrap//normal/user_friends.csv')\n",
    "G = nx.from_pandas_edgelist(user_friends_df, 'username', 'friend_username')\n",
    "G.number_of_nodes()\n",
    "\n",
    "# Initialize trust scores\n",
    "initial_trust_scores = {username: 1 if username in trusted_usernames else 0 for username in G.nodes}\n",
    "\n",
    "# Propagate trust scores using PageRank or a similar algorithm\n",
    "# Here we use a damping factor of 0.85 for the PageRank algorithm\n",
    "trust_scores = nx.pagerank(G, personalization=initial_trust_scores, alpha=0.9)\n",
    "trust_scores_df = pd.DataFrame.from_dict(trust_scores, orient='index').reset_index()\n",
    "trust_scores_df.columns = ['username', 'trust_score_pcc']\n",
    "trust_scores_df['username'] = trust_scores_df['username'].apply(lambda x: x.lower())\n",
    "trust_scores_df.to_csv('trust_scores.csv', index=False)"
   ]
  },
  {
   "cell_type": "code",
   "execution_count": 6,
   "metadata": {},
   "outputs": [
    {
     "name": "stdout",
     "output_type": "stream",
     "text": [
      "<class 'pandas.core.frame.DataFrame'>\n",
      "RangeIndex: 3386 entries, 0 to 3385\n",
      "Data columns (total 2 columns):\n",
      " #   Column           Non-Null Count  Dtype  \n",
      "---  ------           --------------  -----  \n",
      " 0   username         3386 non-null   object \n",
      " 1   trust_score_pcc  3386 non-null   float64\n",
      "dtypes: float64(1), object(1)\n",
      "memory usage: 53.0+ KB\n"
     ]
    }
   ],
   "source": [
    "trust_scores_df.info()"
   ]
  },
  {
   "cell_type": "markdown",
   "metadata": {},
   "source": [
    "# Page Rank as Seed"
   ]
  },
  {
   "cell_type": "code",
   "execution_count": 7,
   "metadata": {},
   "outputs": [
    {
     "data": {
      "text/html": [
       "<div>\n",
       "<style scoped>\n",
       "    .dataframe tbody tr th:only-of-type {\n",
       "        vertical-align: middle;\n",
       "    }\n",
       "\n",
       "    .dataframe tbody tr th {\n",
       "        vertical-align: top;\n",
       "    }\n",
       "\n",
       "    .dataframe thead th {\n",
       "        text-align: right;\n",
       "    }\n",
       "</style>\n",
       "<table border=\"1\" class=\"dataframe\">\n",
       "  <thead>\n",
       "    <tr style=\"text-align: right;\">\n",
       "      <th></th>\n",
       "      <th>User</th>\n",
       "      <th>PageRank Score</th>\n",
       "    </tr>\n",
       "  </thead>\n",
       "  <tbody>\n",
       "    <tr>\n",
       "      <th>0</th>\n",
       "      <td>user_78737</td>\n",
       "      <td>0.004997</td>\n",
       "    </tr>\n",
       "    <tr>\n",
       "      <th>1</th>\n",
       "      <td>BSharp1013</td>\n",
       "      <td>0.004325</td>\n",
       "    </tr>\n",
       "    <tr>\n",
       "      <th>2</th>\n",
       "      <td>Kennethrw</td>\n",
       "      <td>0.003571</td>\n",
       "    </tr>\n",
       "    <tr>\n",
       "      <th>3</th>\n",
       "      <td>Louis_M</td>\n",
       "      <td>0.003539</td>\n",
       "    </tr>\n",
       "    <tr>\n",
       "      <th>4</th>\n",
       "      <td>jannyN12</td>\n",
       "      <td>0.003300</td>\n",
       "    </tr>\n",
       "    <tr>\n",
       "      <th>...</th>\n",
       "      <td>...</td>\n",
       "      <td>...</td>\n",
       "    </tr>\n",
       "    <tr>\n",
       "      <th>3381</th>\n",
       "      <td>pionerka</td>\n",
       "      <td>0.000076</td>\n",
       "    </tr>\n",
       "    <tr>\n",
       "      <th>3382</th>\n",
       "      <td>johuelj</td>\n",
       "      <td>0.000076</td>\n",
       "    </tr>\n",
       "    <tr>\n",
       "      <th>3383</th>\n",
       "      <td>Dl</td>\n",
       "      <td>0.000076</td>\n",
       "    </tr>\n",
       "    <tr>\n",
       "      <th>3384</th>\n",
       "      <td>deraj</td>\n",
       "      <td>0.000076</td>\n",
       "    </tr>\n",
       "    <tr>\n",
       "      <th>3385</th>\n",
       "      <td>Urugente</td>\n",
       "      <td>0.000076</td>\n",
       "    </tr>\n",
       "  </tbody>\n",
       "</table>\n",
       "<p>3386 rows × 2 columns</p>\n",
       "</div>"
      ],
      "text/plain": [
       "            User  PageRank Score\n",
       "0     user_78737        0.004997\n",
       "1     BSharp1013        0.004325\n",
       "2      Kennethrw        0.003571\n",
       "3        Louis_M        0.003539\n",
       "4       jannyN12        0.003300\n",
       "...          ...             ...\n",
       "3381    pionerka        0.000076\n",
       "3382     johuelj        0.000076\n",
       "3383          Dl        0.000076\n",
       "3384       deraj        0.000076\n",
       "3385    Urugente        0.000076\n",
       "\n",
       "[3386 rows x 2 columns]"
      ]
     },
     "execution_count": 7,
     "metadata": {},
     "output_type": "execute_result"
    }
   ],
   "source": [
    "pagerank_profiles_df = pd.read_csv('d:/falconx/datingappdatascrap/normal/pagerank.csv')\n",
    "pagerank_profiles_df"
   ]
  },
  {
   "cell_type": "code",
   "execution_count": 8,
   "metadata": {},
   "outputs": [
    {
     "data": {
      "text/plain": [
       "123"
      ]
     },
     "execution_count": 8,
     "metadata": {},
     "output_type": "execute_result"
    }
   ],
   "source": [
    "pagerankseed = pagerank_profiles_df[:123]\n",
    "pagerankseed = set(pagerankseed['User'])\n",
    "len(pagerankseed)"
   ]
  },
  {
   "cell_type": "code",
   "execution_count": 9,
   "metadata": {},
   "outputs": [
    {
     "name": "stdout",
     "output_type": "stream",
     "text": [
      "<class 'pandas.core.frame.DataFrame'>\n",
      "RangeIndex: 3386 entries, 0 to 3385\n",
      "Data columns (total 2 columns):\n",
      " #   Column          Non-Null Count  Dtype  \n",
      "---  ------          --------------  -----  \n",
      " 0   username        3386 non-null   object \n",
      " 1   trust_score_pr  3386 non-null   float64\n",
      "dtypes: float64(1), object(1)\n",
      "memory usage: 53.0+ KB\n"
     ]
    }
   ],
   "source": [
    "# new graph\n",
    "GP = nx.from_pandas_edgelist(user_friends_df, 'username', 'friend_username')\n",
    "GP.number_of_nodes()\n",
    "\n",
    "# reset page scores\n",
    "reset_trust_scores = {username: 1 if username in pagerankseed else 0 for username in GP.nodes}\n",
    "\n",
    "# Step 4: Propagate trust scores using PageRank or a similar algorithm\n",
    "# Here we use a damping factor of 0.85 for the PageRank algorithm\n",
    "pr_trust_scores = nx.pagerank(G, personalization=reset_trust_scores, alpha=0.9)\n",
    "pr_trust_scores_df = pd.DataFrame.from_dict(pr_trust_scores, orient='index').reset_index()\n",
    "pr_trust_scores_df.columns = ['username', 'trust_score_pr']\n",
    "pr_trust_scores_df['username'] = pr_trust_scores_df['username'].apply(lambda x: x.lower())\n",
    "pr_trust_scores_df.info()"
   ]
  },
  {
   "cell_type": "markdown",
   "metadata": {},
   "source": [
    "# Average and output score"
   ]
  },
  {
   "cell_type": "code",
   "execution_count": 11,
   "metadata": {},
   "outputs": [
    {
     "data": {
      "text/html": [
       "<div>\n",
       "<style scoped>\n",
       "    .dataframe tbody tr th:only-of-type {\n",
       "        vertical-align: middle;\n",
       "    }\n",
       "\n",
       "    .dataframe tbody tr th {\n",
       "        vertical-align: top;\n",
       "    }\n",
       "\n",
       "    .dataframe thead th {\n",
       "        text-align: right;\n",
       "    }\n",
       "</style>\n",
       "<table border=\"1\" class=\"dataframe\">\n",
       "  <thead>\n",
       "    <tr style=\"text-align: right;\">\n",
       "      <th></th>\n",
       "      <th>username</th>\n",
       "      <th>trust_score_pcc</th>\n",
       "      <th>trust_score_pr</th>\n",
       "      <th>trust_score</th>\n",
       "    </tr>\n",
       "  </thead>\n",
       "  <tbody>\n",
       "    <tr>\n",
       "      <th>0</th>\n",
       "      <td>ausguy2013</td>\n",
       "      <td>0.001849</td>\n",
       "      <td>0.004827</td>\n",
       "      <td>0.003338</td>\n",
       "    </tr>\n",
       "    <tr>\n",
       "      <th>1</th>\n",
       "      <td>letizia</td>\n",
       "      <td>0.000057</td>\n",
       "      <td>0.000150</td>\n",
       "      <td>0.000104</td>\n",
       "    </tr>\n",
       "    <tr>\n",
       "      <th>2</th>\n",
       "      <td>tt</td>\n",
       "      <td>0.000057</td>\n",
       "      <td>0.000150</td>\n",
       "      <td>0.000104</td>\n",
       "    </tr>\n",
       "    <tr>\n",
       "      <th>3</th>\n",
       "      <td>constanza28</td>\n",
       "      <td>0.002723</td>\n",
       "      <td>0.003851</td>\n",
       "      <td>0.003287</td>\n",
       "    </tr>\n",
       "    <tr>\n",
       "      <th>4</th>\n",
       "      <td>carol39</td>\n",
       "      <td>0.000057</td>\n",
       "      <td>0.000150</td>\n",
       "      <td>0.000104</td>\n",
       "    </tr>\n",
       "  </tbody>\n",
       "</table>\n",
       "</div>"
      ],
      "text/plain": [
       "      username  trust_score_pcc  trust_score_pr  trust_score\n",
       "0   ausguy2013         0.001849        0.004827     0.003338\n",
       "1      letizia         0.000057        0.000150     0.000104\n",
       "2           tt         0.000057        0.000150     0.000104\n",
       "3  constanza28         0.002723        0.003851     0.003287\n",
       "4      carol39         0.000057        0.000150     0.000104"
      ]
     },
     "execution_count": 11,
     "metadata": {},
     "output_type": "execute_result"
    }
   ],
   "source": [
    "trust_rank_df_2in1 = pd.merge(trust_scores_df, pr_trust_scores_df, on='username', how='inner')\n",
    "trust_rank_df_2in1['trust_score'] = (trust_rank_df_2in1['trust_score_pcc'] + trust_rank_df_2in1['trust_score_pr'])/2\n",
    "trust_rank_df_2in1.head()"
   ]
  },
  {
   "cell_type": "code",
   "execution_count": 12,
   "metadata": {},
   "outputs": [
    {
     "name": "stdout",
     "output_type": "stream",
     "text": [
      "<class 'pandas.core.frame.DataFrame'>\n",
      "Index: 56984 entries, 0 to 56983\n",
      "Data columns (total 20 columns):\n",
      " #   Column                Non-Null Count  Dtype  \n",
      "---  ------                --------------  -----  \n",
      " 0   Unnamed: 0.2          56984 non-null  int64  \n",
      " 1   Unnamed: 0.1          56984 non-null  int64  \n",
      " 2   Unnamed: 0            56984 non-null  int64  \n",
      " 3   scam                  56984 non-null  int64  \n",
      " 4   username              56984 non-null  object \n",
      " 5   age                   56980 non-null  float64\n",
      " 6   gender                56984 non-null  object \n",
      " 7   location              55956 non-null  object \n",
      " 8   ethnicity             52661 non-null  object \n",
      " 9   occupation            34584 non-null  object \n",
      " 10  marital_status        55041 non-null  object \n",
      " 11  children              51452 non-null  object \n",
      " 12  religion              51112 non-null  object \n",
      " 13  sexual_orientation    51451 non-null  object \n",
      " 14  sex                   56984 non-null  object \n",
      " 15  description           12568 non-null  object \n",
      " 16  age_bin               56979 non-null  object \n",
      " 17  description_set       12568 non-null  object \n",
      " 18  description_stem      12568 non-null  object \n",
      " 19  description_stem_set  12568 non-null  object \n",
      "dtypes: float64(1), int64(4), object(15)\n",
      "memory usage: 9.1+ MB\n"
     ]
    }
   ],
   "source": [
    "username_to_index_df = pd.read_csv('d:/falconx/datingappdatascrap/dissimilarity/processed_data.csv', index_col=0)\n",
    "# username_to_index_df = username_to_index_df.dropna(subset = ['username'])\n",
    "username_to_index_df['username'] = username_to_index_df['username'].apply(lambda x: x.lower())\n",
    "username_to_index_df.info()"
   ]
  },
  {
   "cell_type": "code",
   "execution_count": 14,
   "metadata": {},
   "outputs": [],
   "source": [
    "trust_rank_profiles = pd.merge(trust_rank_df_2in1, username_to_index_df, on='username', how = 'left')\n",
    "trust_rank_profiles = trust_rank_profiles.sort_values(by='trust_score', ascending=False)\n",
    "trust_rank_profiles.to_csv('trust_rank_profiles.csv', index=False)"
   ]
  },
  {
   "cell_type": "code",
   "execution_count": 15,
   "metadata": {},
   "outputs": [],
   "source": [
    "trust_rank_samples = trust_rank_profiles.dropna(subset = ['sex'])\n",
    "trust_rank_samples = trust_rank_samples[:500]\n",
    "trust_rank_samples.to_csv('trust_rank_samples.csv', index=False)"
   ]
  },
  {
   "cell_type": "markdown",
   "metadata": {},
   "source": [
    "# Normalize"
   ]
  },
  {
   "cell_type": "code",
   "execution_count": 18,
   "metadata": {},
   "outputs": [],
   "source": [
    "# current max and min\n",
    "min_score = trust_rank_profiles['trust_score'].min()\n",
    "max_score = trust_rank_profiles['trust_score'].max()\n",
    "\n",
    "trust_rank_profiles['scaled_trust_score'] = trust_rank_profiles['trust_score'].apply(\n",
    "    lambda x: x / max_score * 10\n",
    ")\n",
    "\n",
    "trust_rank_profiles.to_csv('trust_rank_profiles.csv', index=False)\n"
   ]
  }
 ],
 "metadata": {
  "kernelspec": {
   "display_name": "Python 3",
   "language": "python",
   "name": "python3"
  },
  "language_info": {
   "codemirror_mode": {
    "name": "ipython",
    "version": 3
   },
   "file_extension": ".py",
   "mimetype": "text/x-python",
   "name": "python",
   "nbconvert_exporter": "python",
   "pygments_lexer": "ipython3",
   "version": "3.11.3"
  }
 },
 "nbformat": 4,
 "nbformat_minor": 2
}
