{
 "cells": [
  {
   "cell_type": "code",
   "execution_count": 17,
   "metadata": {},
   "outputs": [
    {
     "data": {
      "text/plain": [
       "123"
      ]
     },
     "execution_count": 17,
     "metadata": {},
     "output_type": "execute_result"
    }
   ],
   "source": [
    "# Step 1: Read trusted profiles and create a set of trusted usernames\n",
    "trusted_profiles_df = pd.read_csv('./dissimilarity/trusted_profiles_info.csv', index_col=0)\n",
    "trusted_usernames = set(trusted_profiles_df['username'])\n",
    "len(trusted_usernames)"
   ]
  },
  {
   "cell_type": "code",
   "execution_count": 12,
   "metadata": {},
   "outputs": [],
   "source": [
    "import pandas as pd\n",
    "import networkx as nx\n",
    "\n",
    "# Step 1: Read trusted profiles and create a set of trusted usernames\n",
    "trusted_profiles_df = pd.read_csv('./dissimilarity/trusted_profiles_info.csv', index_col=0)\n",
    "trusted_usernames = set(trusted_profiles_df['username'])\n",
    "\n",
    "# Step 2: Read user friends data and build a graph\n",
    "user_friends_df = pd.read_csv('./normal/user_friends.csv')\n",
    "G = nx.from_pandas_edgelist(user_friends_df, 'username', 'friend_username')\n",
    "\n",
    "# Step 3: Initialize trust scores\n",
    "initial_trust_scores = {username: 1 if username in trusted_usernames else 0 for username in G.nodes}\n",
    "\n",
    "# Step 4: Propagate trust scores using PageRank or a similar algorithm\n",
    "# Here we use a damping factor of 0.85 for the PageRank algorithm\n",
    "trust_scores = nx.pagerank(G, personalization=initial_trust_scores, alpha=0.9)\n",
    "\n",
    "# Step 5: Normalize trust scores (assuming you want them in range [0, 1])\n",
    "max_score = max(trust_scores.values())\n",
    "normalized_trust_scores = {username: score / max_score for username, score in trust_scores.items()}\n",
    "\n",
    "# Step 6: Map trust scores back to profile indices\n",
    "# This assumes that there's a way to map usernames to profile indices, which could be another CSV file or part of the existing CSV files.\n",
    "# Let's assume we have a DataFrame that maps usernames to indices:\n",
    "username_to_index_df = pd.read_csv('./dissimilarity/all_profile.csv', index_col=0)\n",
    "username_to_index = pd.Series(username_to_index_df.index.values, index=username_to_index_df.username).to_dict()\n",
    "\n",
    "# Map the normalized trust scores to profile indices\n",
    "index_trust_scores = {username_to_index[username]: score for username, score in normalized_trust_scores.items() if username in username_to_index}\n",
    "\n",
    "# Convert the trust scores to a DataFrame for further analysis\n",
    "trust_scores_df = pd.DataFrame(list(index_trust_scores.items()), columns=['profile_index', 'trust_score'])\n"
   ]
  },
  {
   "cell_type": "code",
   "execution_count": 13,
   "metadata": {},
   "outputs": [],
   "source": [
    "trust_scores_df.to_csv('trust_scores.csv')"
   ]
  },
  {
   "cell_type": "code",
   "execution_count": null,
   "metadata": {},
   "outputs": [],
   "source": [
    "from IPython.display import FileLink\n",
    "\n",
    "# Replace 'path_to_output.csv' with your actual file path\n",
    "output_file_path = '/mnt/data/trust_scores.csv'\n",
    "display(FileLink(output_file_path))\n"
   ]
  }
 ],
 "metadata": {
  "kernelspec": {
   "display_name": "Python 3",
   "language": "python",
   "name": "python3"
  },
  "language_info": {
   "codemirror_mode": {
    "name": "ipython",
    "version": 3
   },
   "file_extension": ".py",
   "mimetype": "text/x-python",
   "name": "python",
   "nbconvert_exporter": "python",
   "pygments_lexer": "ipython3",
   "version": "3.11.3"
  }
 },
 "nbformat": 4,
 "nbformat_minor": 2
}
