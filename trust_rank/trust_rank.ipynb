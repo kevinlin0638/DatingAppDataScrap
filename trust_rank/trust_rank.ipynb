{
 "cells": [
  {
   "cell_type": "markdown",
   "metadata": {},
   "source": [
    "# Trust Profile as seed"
   ]
  },
  {
   "cell_type": "code",
   "execution_count": 23,
   "metadata": {},
   "outputs": [
    {
     "data": {
      "text/plain": [
       "123"
      ]
     },
     "execution_count": 23,
     "metadata": {},
     "output_type": "execute_result"
    }
   ],
   "source": [
    "import pandas as pd\n",
    "import networkx as nx\n",
    "# Step 1: Read trusted profiles and create a set of trusted usernames\n",
    "trusted_profiles_df = pd.read_csv('d:/falconx/datingappdatascrap/dissimilarity/trusted_profiles_info.csv', index_col=0)\n",
    "trusted_usernames = set(trusted_profiles_df['username'])\n",
    "len(trusted_usernames)"
   ]
  },
  {
   "cell_type": "code",
   "execution_count": 10,
   "metadata": {},
   "outputs": [
    {
     "data": {
      "text/plain": [
       "3386"
      ]
     },
     "execution_count": 10,
     "metadata": {},
     "output_type": "execute_result"
    }
   ],
   "source": [
    "# Step 2: Read user friends data and build a graph\n",
    "user_friends_df = pd.read_csv('d:/falconx/datingappdatascrap//normal/user_friends.csv')\n",
    "G = nx.from_pandas_edgelist(user_friends_df, 'username', 'friend_username')\n",
    "G.number_of_nodes()"
   ]
  },
  {
   "cell_type": "code",
   "execution_count": 44,
   "metadata": {},
   "outputs": [
    {
     "name": "stdout",
     "output_type": "stream",
     "text": [
      "<class 'pandas.core.frame.DataFrame'>\n",
      "Index: 3386 entries, 73 to 3050\n",
      "Data columns (total 2 columns):\n",
      " #   Column       Non-Null Count  Dtype  \n",
      "---  ------       --------------  -----  \n",
      " 0   username     3386 non-null   object \n",
      " 1   trust_score  3386 non-null   float64\n",
      "dtypes: float64(1), object(1)\n",
      "memory usage: 79.4+ KB\n"
     ]
    }
   ],
   "source": [
    "# Step 3: Initialize trust scores\n",
    "initial_trust_scores = {username: 1 if username in trusted_usernames else 0 for username in G.nodes}\n",
    "\n",
    "# Step 4: Propagate trust scores using PageRank or a similar algorithm\n",
    "# Here we use a damping factor of 0.85 for the PageRank algorithm\n",
    "trust_scores = nx.pagerank(G, personalization=initial_trust_scores, alpha=0.9)\n",
    "trust_scores_df = pd.DataFrame.from_dict(trust_scores, orient='index').reset_index()\n",
    "trust_scores_df.columns = ['username', 'trust_score']\n",
    "trust_scores_df['username'] = trust_scores_df['username'].apply(lambda x: x.lower())\n",
    "trust_scores_sorted = trust_scores_df.sort_values(by='trust_score', ascending=False)\n",
    "trust_scores_sorted.to_csv('trust_scores.csv', index=False)\n",
    "trust_scores_sorted.info()"
   ]
  },
  {
   "cell_type": "code",
   "execution_count": 45,
   "metadata": {},
   "outputs": [
    {
     "name": "stdout",
     "output_type": "stream",
     "text": [
      "<class 'pandas.core.frame.DataFrame'>\n",
      "RangeIndex: 3386 entries, 0 to 3385\n",
      "Data columns (total 2 columns):\n",
      " #   Column       Non-Null Count  Dtype  \n",
      "---  ------       --------------  -----  \n",
      " 0   username     3386 non-null   object \n",
      " 1   trust_score  3386 non-null   float64\n",
      "dtypes: float64(1), object(1)\n",
      "memory usage: 53.0+ KB\n"
     ]
    }
   ],
   "source": [
    "trust_scores_df.info()"
   ]
  },
  {
   "cell_type": "code",
   "execution_count": 46,
   "metadata": {},
   "outputs": [
    {
     "name": "stdout",
     "output_type": "stream",
     "text": [
      "<class 'pandas.core.frame.DataFrame'>\n",
      "Index: 56984 entries, 0 to 56983\n",
      "Data columns (total 20 columns):\n",
      " #   Column                Non-Null Count  Dtype  \n",
      "---  ------                --------------  -----  \n",
      " 0   Unnamed: 0.2          56984 non-null  int64  \n",
      " 1   Unnamed: 0.1          56984 non-null  int64  \n",
      " 2   Unnamed: 0            56984 non-null  int64  \n",
      " 3   scam                  56984 non-null  int64  \n",
      " 4   username              56984 non-null  object \n",
      " 5   age                   56980 non-null  float64\n",
      " 6   gender                56984 non-null  object \n",
      " 7   location              55956 non-null  object \n",
      " 8   ethnicity             52661 non-null  object \n",
      " 9   occupation            34584 non-null  object \n",
      " 10  marital_status        55041 non-null  object \n",
      " 11  children              51452 non-null  object \n",
      " 12  religion              51112 non-null  object \n",
      " 13  sexual_orientation    51451 non-null  object \n",
      " 14  sex                   56984 non-null  object \n",
      " 15  description           12568 non-null  object \n",
      " 16  age_bin               56979 non-null  object \n",
      " 17  description_set       12568 non-null  object \n",
      " 18  description_stem      12568 non-null  object \n",
      " 19  description_stem_set  12568 non-null  object \n",
      "dtypes: float64(1), int64(4), object(15)\n",
      "memory usage: 9.1+ MB\n"
     ]
    }
   ],
   "source": [
    "username_to_index_df = pd.read_csv('d:/falconx/datingappdatascrap/dissimilarity/processed_data.csv', index_col=0)\n",
    "# username_to_index_df = username_to_index_df.dropna(subset = ['username'])\n",
    "username_to_index_df['username'] = username_to_index_df['username'].apply(lambda x: x.lower())\n",
    "username_to_index_df.info()"
   ]
  },
  {
   "cell_type": "code",
   "execution_count": 54,
   "metadata": {},
   "outputs": [],
   "source": [
    "trust_rank_profile_similarity = pd.merge(trust_scores_df, username_to_index_df, on='username', how = 'left')"
   ]
  },
  {
   "cell_type": "code",
   "execution_count": 55,
   "metadata": {},
   "outputs": [],
   "source": [
    "trust_rank_profile_similarity.to_csv('trust_rank_profile_similarity.csv', index=False)"
   ]
  },
  {
   "cell_type": "markdown",
   "metadata": {},
   "source": [
    "# Page Rank"
   ]
  },
  {
   "cell_type": "code",
   "execution_count": 27,
   "metadata": {},
   "outputs": [
    {
     "data": {
      "text/html": [
       "<div>\n",
       "<style scoped>\n",
       "    .dataframe tbody tr th:only-of-type {\n",
       "        vertical-align: middle;\n",
       "    }\n",
       "\n",
       "    .dataframe tbody tr th {\n",
       "        vertical-align: top;\n",
       "    }\n",
       "\n",
       "    .dataframe thead th {\n",
       "        text-align: right;\n",
       "    }\n",
       "</style>\n",
       "<table border=\"1\" class=\"dataframe\">\n",
       "  <thead>\n",
       "    <tr style=\"text-align: right;\">\n",
       "      <th></th>\n",
       "      <th>User</th>\n",
       "      <th>PageRank Score</th>\n",
       "    </tr>\n",
       "  </thead>\n",
       "  <tbody>\n",
       "    <tr>\n",
       "      <th>0</th>\n",
       "      <td>user_78737</td>\n",
       "      <td>0.004997</td>\n",
       "    </tr>\n",
       "    <tr>\n",
       "      <th>1</th>\n",
       "      <td>BSharp1013</td>\n",
       "      <td>0.004325</td>\n",
       "    </tr>\n",
       "    <tr>\n",
       "      <th>2</th>\n",
       "      <td>Kennethrw</td>\n",
       "      <td>0.003571</td>\n",
       "    </tr>\n",
       "    <tr>\n",
       "      <th>3</th>\n",
       "      <td>Louis_M</td>\n",
       "      <td>0.003539</td>\n",
       "    </tr>\n",
       "    <tr>\n",
       "      <th>4</th>\n",
       "      <td>jannyN12</td>\n",
       "      <td>0.003300</td>\n",
       "    </tr>\n",
       "    <tr>\n",
       "      <th>...</th>\n",
       "      <td>...</td>\n",
       "      <td>...</td>\n",
       "    </tr>\n",
       "    <tr>\n",
       "      <th>3381</th>\n",
       "      <td>pionerka</td>\n",
       "      <td>0.000076</td>\n",
       "    </tr>\n",
       "    <tr>\n",
       "      <th>3382</th>\n",
       "      <td>johuelj</td>\n",
       "      <td>0.000076</td>\n",
       "    </tr>\n",
       "    <tr>\n",
       "      <th>3383</th>\n",
       "      <td>Dl</td>\n",
       "      <td>0.000076</td>\n",
       "    </tr>\n",
       "    <tr>\n",
       "      <th>3384</th>\n",
       "      <td>deraj</td>\n",
       "      <td>0.000076</td>\n",
       "    </tr>\n",
       "    <tr>\n",
       "      <th>3385</th>\n",
       "      <td>Urugente</td>\n",
       "      <td>0.000076</td>\n",
       "    </tr>\n",
       "  </tbody>\n",
       "</table>\n",
       "<p>3386 rows × 2 columns</p>\n",
       "</div>"
      ],
      "text/plain": [
       "            User  PageRank Score\n",
       "0     user_78737        0.004997\n",
       "1     BSharp1013        0.004325\n",
       "2      Kennethrw        0.003571\n",
       "3        Louis_M        0.003539\n",
       "4       jannyN12        0.003300\n",
       "...          ...             ...\n",
       "3381    pionerka        0.000076\n",
       "3382     johuelj        0.000076\n",
       "3383          Dl        0.000076\n",
       "3384       deraj        0.000076\n",
       "3385    Urugente        0.000076\n",
       "\n",
       "[3386 rows x 2 columns]"
      ]
     },
     "execution_count": 27,
     "metadata": {},
     "output_type": "execute_result"
    }
   ],
   "source": [
    "pagerank_profiles_df = pd.read_csv('d:/falconx/datingappdatascrap/normal/pagerank.csv')\n",
    "pagerank_profiles_df"
   ]
  },
  {
   "cell_type": "code",
   "execution_count": 49,
   "metadata": {},
   "outputs": [
    {
     "data": {
      "text/plain": [
       "123"
      ]
     },
     "execution_count": 49,
     "metadata": {},
     "output_type": "execute_result"
    }
   ],
   "source": [
    "pagerankseed = pagerank_profiles_df[:123]\n",
    "pagerankseed = set(pagerankseed['User'])\n",
    "len(pagerankseed)"
   ]
  },
  {
   "cell_type": "code",
   "execution_count": 50,
   "metadata": {},
   "outputs": [
    {
     "data": {
      "text/plain": [
       "3386"
      ]
     },
     "execution_count": 50,
     "metadata": {},
     "output_type": "execute_result"
    }
   ],
   "source": [
    "user_friends_df = pd.read_csv('d:/falconx/datingappdatascrap//normal/user_friends.csv')\n",
    "GP = nx.from_pandas_edgelist(user_friends_df, 'username', 'friend_username')\n",
    "GP.number_of_nodes()"
   ]
  },
  {
   "cell_type": "code",
   "execution_count": 58,
   "metadata": {},
   "outputs": [
    {
     "name": "stdout",
     "output_type": "stream",
     "text": [
      "<class 'pandas.core.frame.DataFrame'>\n",
      "Index: 3386 entries, 73 to 3050\n",
      "Data columns (total 2 columns):\n",
      " #   Column       Non-Null Count  Dtype  \n",
      "---  ------       --------------  -----  \n",
      " 0   username     3386 non-null   object \n",
      " 1   trust_score  3386 non-null   float64\n",
      "dtypes: float64(1), object(1)\n",
      "memory usage: 79.4+ KB\n"
     ]
    }
   ],
   "source": [
    "# Initialize trust scores\n",
    "reset_trust_scores = {username: 1 if username in pagerankseed else 0 for username in GP.nodes}\n",
    "\n",
    "# Step 4: Propagate trust scores using PageRank or a similar algorithm\n",
    "# Here we use a damping factor of 0.85 for the PageRank algorithm\n",
    "pr_trust_scores = nx.pagerank(G, personalization=reset_trust_scores, alpha=0.9)\n",
    "pr_trust_scores_df = pd.DataFrame.from_dict(pr_trust_scores, orient='index').reset_index()\n",
    "pr_trust_scores_df.columns = ['username', 'trust_score']\n",
    "pr_trust_scores_df['username'] = pr_trust_scores_df['username'].apply(lambda x: x.lower())\n",
    "pr_trust_scores_sorted = pr_trust_scores_df.sort_values(by='trust_score', ascending=False)\n",
    "pr_trust_scores_sorted.to_csv('trust_scores.csv', index=False)\n",
    "pr_trust_scores_sorted.info()"
   ]
  },
  {
   "cell_type": "code",
   "execution_count": 59,
   "metadata": {},
   "outputs": [],
   "source": [
    "pr_trust_rank_profile_similarity = pd.merge(pr_trust_scores_df, username_to_index_df, on='username', how = 'left')\n",
    "pr_trust_rank_profile_similarity.to_csv('pr_trust_rank_profile_similarity.csv', index=False)"
   ]
  }
 ],
 "metadata": {
  "kernelspec": {
   "display_name": "Python 3",
   "language": "python",
   "name": "python3"
  },
  "language_info": {
   "codemirror_mode": {
    "name": "ipython",
    "version": 3
   },
   "file_extension": ".py",
   "mimetype": "text/x-python",
   "name": "python",
   "nbconvert_exporter": "python",
   "pygments_lexer": "ipython3",
   "version": "3.11.3"
  }
 },
 "nbformat": 4,
 "nbformat_minor": 2
}
