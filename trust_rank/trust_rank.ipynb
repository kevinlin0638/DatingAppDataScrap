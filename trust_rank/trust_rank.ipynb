{
 "cells": [
  {
   "cell_type": "code",
   "execution_count": 10,
   "metadata": {},
   "outputs": [
    {
     "data": {
      "text/plain": [
       "970"
      ]
     },
     "execution_count": 10,
     "metadata": {},
     "output_type": "execute_result"
    }
   ],
   "source": [
    "import pandas as pd\n",
    "import networkx as nx\n",
    "# Step 1: Read trusted profiles and create a set of trusted usernames\n",
    "trusted_profiles_df = pd.read_csv('d:/falconx/datingappdatascrap/dissimilarity/trusted_profiles_info.csv', index_col=0)\n",
    "trusted_usernames = set(trusted_profiles_df['username'])\n",
    "len(trusted_usernames)"
   ]
  },
  {
   "cell_type": "code",
   "execution_count": 11,
   "metadata": {},
   "outputs": [
    {
     "data": {
      "text/plain": [
       "3386"
      ]
     },
     "execution_count": 11,
     "metadata": {},
     "output_type": "execute_result"
    }
   ],
   "source": [
    "# Step 2: Read user friends data and build a graph\n",
    "user_friends_df = pd.read_csv('d:/falconx/datingappdatascrap//normal/user_friends.csv')\n",
    "G = nx.from_pandas_edgelist(user_friends_df, 'username', 'friend_username')\n",
    "G.number_of_nodes()"
   ]
  },
  {
   "cell_type": "code",
   "execution_count": 33,
   "metadata": {},
   "outputs": [],
   "source": [
    "# Step 3: Initialize trust scores\n",
    "initial_trust_scores = {username: 1 if username in trusted_usernames else 0 for username in G.nodes}\n",
    "\n",
    "# Step 4: Propagate trust scores using PageRank or a similar algorithm\n",
    "# Here we use a damping factor of 0.85 for the PageRank algorithm\n",
    "trust_scores = nx.pagerank(G, personalization=initial_trust_scores, alpha=0.9)\n",
    "trust_scores_df = pd.DataFrame.from_dict(trust_scores, orient='index').reset_index()\n",
    "trust_scores_df.columns = ['username', 'trust_score']\n",
    "trust_scores_sorted = trust_scores_df.sort_values(by='trust_score', ascending=False)\n",
    "trust_scores_sorted.to_csv('trust_scores.csv', index=False)"
   ]
  },
  {
   "cell_type": "code",
   "execution_count": 20,
   "metadata": {},
   "outputs": [
    {
     "data": {
      "text/plain": [
       "44643"
      ]
     },
     "execution_count": 20,
     "metadata": {},
     "output_type": "execute_result"
    }
   ],
   "source": [
    "username_to_index_df = pd.read_csv('d:/falconx/datingappdatascrap/dissimilarity/processed_data.csv', index_col=0)\n",
    "username_to_index_df = username_to_index_df.dropna(subset = ['username'])\n",
    "username_to_index = pd.Series(username_to_index_df.index.values, index=username_to_index_df.username).to_dict()\n",
    "len(username_to_index)"
   ]
  },
  {
   "cell_type": "code",
   "execution_count": null,
   "metadata": {},
   "outputs": [],
   "source": [
    "# Map the normalized trust scores to profile indices\n",
    "index_trust_scores = {username_to_index[username]: score for username, score in trust_scores.items() if username in username_to_index}\n"
   ]
  },
  {
   "cell_type": "code",
   "execution_count": 24,
   "metadata": {},
   "outputs": [],
   "source": [
    "# Convert the trust scores to a DataFrame for further analysis\n",
    "trust_scores_df = pd.DataFrame(list(index_trust_scores.items()), columns=['profile_index', 'trust_score'])"
   ]
  },
  {
   "cell_type": "code",
   "execution_count": 25,
   "metadata": {},
   "outputs": [
    {
     "data": {
      "text/plain": [
       "<bound method DataFrame.info of      profile_index  trust_score\n",
       "0                0     0.007880\n",
       "1             7756     0.000027\n",
       "2            44482     0.000201\n",
       "3            24809     0.004635\n",
       "4             7589     0.000099\n",
       "..             ...          ...\n",
       "638          47024     0.000071\n",
       "639          47189     0.000031\n",
       "640          47283     0.000071\n",
       "641          47302     0.000143\n",
       "642          47335     0.000121\n",
       "\n",
       "[643 rows x 2 columns]>"
      ]
     },
     "execution_count": 25,
     "metadata": {},
     "output_type": "execute_result"
    }
   ],
   "source": [
    "trust_scores_df.info"
   ]
  },
  {
   "cell_type": "code",
   "execution_count": 16,
   "metadata": {},
   "outputs": [],
   "source": [
    "trust_scores_df.to_csv('trust_scores.csv')"
   ]
  },
  {
   "cell_type": "code",
   "execution_count": null,
   "metadata": {},
   "outputs": [],
   "source": [
    "from IPython.display import FileLink\n",
    "\n",
    "# Replace 'path_to_output.csv' with your actual file path\n",
    "output_file_path = '/mnt/data/trust_scores.csv'\n",
    "display(FileLink(output_file_path))\n"
   ]
  }
 ],
 "metadata": {
  "kernelspec": {
   "display_name": "Python 3",
   "language": "python",
   "name": "python3"
  },
  "language_info": {
   "codemirror_mode": {
    "name": "ipython",
    "version": 3
   },
   "file_extension": ".py",
   "mimetype": "text/x-python",
   "name": "python",
   "nbconvert_exporter": "python",
   "pygments_lexer": "ipython3",
   "version": "3.11.3"
  }
 },
 "nbformat": 4,
 "nbformat_minor": 2
}
