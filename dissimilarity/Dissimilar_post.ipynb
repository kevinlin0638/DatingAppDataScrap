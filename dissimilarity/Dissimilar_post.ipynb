{
  "cells": [
    {
      "cell_type": "markdown",
      "metadata": {
        "id": "yAaSrRX7DrGC"
      },
      "source": [
        "# 0. Init"
      ]
    },
    {
      "cell_type": "code",
      "execution_count": 1,
      "metadata": {
        "id": "8Gv9o8RnWlqs"
      },
      "outputs": [],
      "source": [
        "import csv\n",
        "import os\n",
        "import json\n",
        "import argparse\n",
        "import random\n",
        "import re\n",
        "import pandas as pd\n",
        "import numpy as np\n",
        "import matplotlib.pyplot as plt\n",
        "from collections import Counter\n",
        "\n",
        "\n",
        "from tqdm import tqdm\n",
        "\n",
        "\n",
        "# 'here_for,'smoke','drink', 'match_age'\n",
        "union_meta = ['scam','username','age','gender','location','ethnicity','occupation','marital_status','children','religion','sexual_orientation','sex', 'description']\n",
        "\n",
        "scam_meta = ['email']\n",
        "\n",
        "tqdm.pandas()"
      ]
    },
    {
      "cell_type": "code",
      "execution_count": 2,
      "metadata": {
        "id": "0mF8z550S-cs"
      },
      "outputs": [],
      "source": [
        "all_profile = pd.read_csv(\"processed_data.csv\")"
      ]
    },
    {
      "cell_type": "markdown",
      "metadata": {
        "id": "5R15oGWpxaZI"
      },
      "source": [
        "# 2. tfidf"
      ]
    },
    {
      "cell_type": "code",
      "execution_count": null,
      "metadata": {
        "colab": {
          "base_uri": "https://localhost:8080/"
        },
        "id": "vq-ItmpgGHrV",
        "outputId": "37885167-463c-4cd1-d62f-c324578424b2"
      },
      "outputs": [
        {
          "name": "stdout",
          "output_type": "stream",
          "text": [
            "<class 'pandas.core.series.Series'>\n",
            "Int64Index: 5452 entries, 50918 to 56983\n",
            "Series name: description_stem_set\n",
            "Non-Null Count  Dtype \n",
            "--------------  ----- \n",
            "5452 non-null   object\n",
            "dtypes: object(1)\n",
            "memory usage: 85.2+ KB\n"
          ]
        }
      ],
      "source": [
        "scam_sets = all_profile[all_profile['scam'] == 1]['description_stem_set'].dropna()\n",
        "normal_sets = all_profile[all_profile['scam'] == 0]['description_stem_set'].dropna()\n",
        "scam_sets.info()"
      ]
    },
    {
      "cell_type": "code",
      "execution_count": null,
      "metadata": {
        "colab": {
          "base_uri": "https://localhost:8080/"
        },
        "id": "0z9I3hVkHTY5",
        "outputId": "ca9e541c-077c-4c75-d694-b29ec3d2d05a"
      },
      "outputs": [
        {
          "data": {
            "text/plain": [
              "50918    {'want', 'look', 'hi', 'someon', 'real', 'gee'...\n",
              "50919    {'read', 'honest', 'god', 'friend', 'care', 'l...\n",
              "50920    {'goal', 'purpos', 'best', 'minut', 'strong', ...\n",
              "50921    {'5', 'text', 'friendli', 'jovial', 'woman', '...\n",
              "50922    {'harmoni', 'quitecar', 'marriag', 'trust', 'w...\n",
              "Name: description_stem_set, dtype: object"
            ]
          },
          "execution_count": 140,
          "metadata": {},
          "output_type": "execute_result"
        }
      ],
      "source": [
        "scam_sets.head(5)"
      ]
    },
    {
      "cell_type": "code",
      "execution_count": null,
      "metadata": {
        "id": "3-QuoljtGc2i"
      },
      "outputs": [],
      "source": [
        "from sklearn.feature_extraction.text import TfidfVectorizer\n",
        "from sklearn.metrics.pairwise import cosine_similarity"
      ]
    },
    {
      "cell_type": "code",
      "execution_count": null,
      "metadata": {
        "id": "gw3iDT-BGtes"
      },
      "outputs": [],
      "source": [
        "# Convert the sets into space-separated strings\n",
        "scam_series = scam_sets.apply(' '.join)\n",
        "normal_series = normal_sets.apply(' '.join)"
      ]
    },
    {
      "cell_type": "code",
      "execution_count": null,
      "metadata": {
        "id": "Eh45nJHXIImv"
      },
      "outputs": [],
      "source": [
        "# Use TfidfVectorizer to get feature vectors for tokenized descriptions\n",
        "tfidf_vectorizer = TfidfVectorizer(analyzer=lambda x: x.split())\n",
        "combined_series = pd.concat([scam_series, normal_series], axis=0)\n",
        "tfidf_matrix = tfidf_vectorizer.fit_transform(combined_series)"
      ]
    },
    {
      "cell_type": "code",
      "execution_count": null,
      "metadata": {
        "id": "cV74fRTXIQB_"
      },
      "outputs": [],
      "source": [
        "# Separate back into scam and normal profile tfidf matrices\n",
        "scam_tfidf_matrix = tfidf_matrix[:len(scam_series)]\n",
        "normal_tfidf_matrix = tfidf_matrix[len(scam_series):]"
      ]
    },
    {
      "cell_type": "code",
      "execution_count": null,
      "metadata": {
        "id": "W1HMyG6UIaCs"
      },
      "outputs": [],
      "source": [
        "# Calculate cosine similarity\n",
        "similarity_matrix = cosine_similarity(scam_tfidf_matrix, normal_tfidf_matrix)\n",
        "\n",
        "# Convert similarity to dissimilarity\n",
        "dissimilarity_matrix = 1 - similarity_matrix\n",
        "\n",
        "# Get the top 10 dissimilar profiles for each scam profile\n",
        "top_dissimilar_indices = np.argpartition(dissimilarity_matrix, -10)[:, -10:]"
      ]
    },
    {
      "cell_type": "code",
      "execution_count": null,
      "metadata": {
        "id": "CsL8QtV2TeTn"
      },
      "outputs": [],
      "source": [
        "dissimilarity_matrix"
      ]
    },
    {
      "cell_type": "code",
      "execution_count": null,
      "metadata": {
        "id": "xQtgryrvIb7m"
      },
      "outputs": [],
      "source": [
        "# Create a DataFrame to store scam profile indices, corresponding normal profile indices, and dissimilarity scores\n",
        "dissimilarity_df = pd.DataFrame(columns=['Scam Profile Index', 'Normal Profile Index', 'Dissimilarity Score'])\n",
        "\n",
        "scam_indices = scam_sets.index.tolist()\n",
        "normal_indices = normal_sets.index.tolist()\n",
        "\n",
        "data = []\n",
        "\n",
        "for scam_matrix_idx, norm_indices in enumerate(top_dissimilar_indices):\n",
        "    scam_idx = scam_indices[scam_matrix_idx]\n",
        "    for norm_matrix_idx in norm_indices:\n",
        "        norm_idx = normal_indices[norm_matrix_idx]\n",
        "        dissimilarity_df = dissimilarity_df.append({\n",
        "            'Scam Profile Index': scam_idx,\n",
        "            'Normal Profile Index': norm_idx,\n",
        "            'Dissimilarity Score': dissimilarity_matrix[scam_matrix_idx, norm_matrix_idx]\n",
        "        }, ignore_index=True)\n",
        "\n",
        "# Sort the DataFrame based on dissimilarity scores in descending order\n",
        "dissimilarity_df.sort_values(by='Dissimilarity Score', ascending=False, inplace=True)\n",
        "\n",
        "# Reset index\n",
        "dissimilarity_df.reset_index(drop=True, inplace=True)\n",
        "\n",
        "# Save to CSV\n",
        "dissimilarity_df.to_csv('dissimilarity_scores.csv', index=False)"
      ]
    },
    {
      "cell_type": "code",
      "execution_count": null,
      "metadata": {
        "colab": {
          "base_uri": "https://localhost:8080/"
        },
        "id": "HJB14nXvK4Pr",
        "outputId": "f4495856-315d-4b24-c0c6-3590afe01637"
      },
      "outputs": [
        {
          "name": "stdout",
          "output_type": "stream",
          "text": [
            "<class 'pandas.core.frame.DataFrame'>\n",
            "RangeIndex: 5861 entries, 0 to 5860\n",
            "Data columns (total 2 columns):\n",
            " #   Column         Non-Null Count  Dtype\n",
            "---  ------         --------------  -----\n",
            " 0   profile_index  5861 non-null   int64\n",
            " 1   frequency      5861 non-null   int64\n",
            "dtypes: int64(2)\n",
            "memory usage: 91.7 KB\n"
          ]
        }
      ],
      "source": [
        "dissimilarity_df.head(10)"
      ]
    },
    {
      "cell_type": "code",
      "execution_count": null,
      "metadata": {
        "colab": {
          "base_uri": "https://localhost:8080/",
          "height": 322
        },
        "id": "EfWsU-wSK80S",
        "outputId": "54c4fe02-a505-4068-ecfe-c7d555585551"
      },
      "outputs": [
        {
          "ename": "OSError",
          "evalue": "ignored",
          "output_type": "error",
          "traceback": [
            "\u001b[0;31m---------------------------------------------------------------------------\u001b[0m",
            "\u001b[0;31mOSError\u001b[0m                                   Traceback (most recent call last)",
            "\u001b[0;32m<ipython-input-28-1e97961bb201>\u001b[0m in \u001b[0;36m<cell line: 1>\u001b[0;34m()\u001b[0m\n\u001b[0;32m----> 1\u001b[0;31m \u001b[0mquality_set\u001b[0m\u001b[0;34m.\u001b[0m\u001b[0mto_csv\u001b[0m\u001b[0;34m(\u001b[0m\u001b[0;34m'quality_profiles.csv'\u001b[0m\u001b[0;34m,\u001b[0m \u001b[0mindex\u001b[0m\u001b[0;34m=\u001b[0m\u001b[0;32mFalse\u001b[0m\u001b[0;34m)\u001b[0m\u001b[0;34m\u001b[0m\u001b[0;34m\u001b[0m\u001b[0m\n\u001b[0m",
            "\u001b[0;32m/usr/local/lib/python3.10/dist-packages/pandas/util/_decorators.py\u001b[0m in \u001b[0;36mwrapper\u001b[0;34m(*args, **kwargs)\u001b[0m\n\u001b[1;32m    209\u001b[0m                 \u001b[0;32melse\u001b[0m\u001b[0;34m:\u001b[0m\u001b[0;34m\u001b[0m\u001b[0;34m\u001b[0m\u001b[0m\n\u001b[1;32m    210\u001b[0m                     \u001b[0mkwargs\u001b[0m\u001b[0;34m[\u001b[0m\u001b[0mnew_arg_name\u001b[0m\u001b[0;34m]\u001b[0m \u001b[0;34m=\u001b[0m \u001b[0mnew_arg_value\u001b[0m\u001b[0;34m\u001b[0m\u001b[0;34m\u001b[0m\u001b[0m\n\u001b[0;32m--> 211\u001b[0;31m             \u001b[0;32mreturn\u001b[0m \u001b[0mfunc\u001b[0m\u001b[0;34m(\u001b[0m\u001b[0;34m*\u001b[0m\u001b[0margs\u001b[0m\u001b[0;34m,\u001b[0m \u001b[0;34m**\u001b[0m\u001b[0mkwargs\u001b[0m\u001b[0;34m)\u001b[0m\u001b[0;34m\u001b[0m\u001b[0;34m\u001b[0m\u001b[0m\n\u001b[0m\u001b[1;32m    212\u001b[0m \u001b[0;34m\u001b[0m\u001b[0m\n\u001b[1;32m    213\u001b[0m         \u001b[0;32mreturn\u001b[0m \u001b[0mcast\u001b[0m\u001b[0;34m(\u001b[0m\u001b[0mF\u001b[0m\u001b[0;34m,\u001b[0m \u001b[0mwrapper\u001b[0m\u001b[0;34m)\u001b[0m\u001b[0;34m\u001b[0m\u001b[0;34m\u001b[0m\u001b[0m\n",
            "\u001b[0;32m/usr/local/lib/python3.10/dist-packages/pandas/core/generic.py\u001b[0m in \u001b[0;36mto_csv\u001b[0;34m(self, path_or_buf, sep, na_rep, float_format, columns, header, index, index_label, mode, encoding, compression, quoting, quotechar, lineterminator, chunksize, date_format, doublequote, escapechar, decimal, errors, storage_options)\u001b[0m\n\u001b[1;32m   3718\u001b[0m         )\n\u001b[1;32m   3719\u001b[0m \u001b[0;34m\u001b[0m\u001b[0m\n\u001b[0;32m-> 3720\u001b[0;31m         return DataFrameRenderer(formatter).to_csv(\n\u001b[0m\u001b[1;32m   3721\u001b[0m             \u001b[0mpath_or_buf\u001b[0m\u001b[0;34m,\u001b[0m\u001b[0;34m\u001b[0m\u001b[0;34m\u001b[0m\u001b[0m\n\u001b[1;32m   3722\u001b[0m             \u001b[0mlineterminator\u001b[0m\u001b[0;34m=\u001b[0m\u001b[0mlineterminator\u001b[0m\u001b[0;34m,\u001b[0m\u001b[0;34m\u001b[0m\u001b[0;34m\u001b[0m\u001b[0m\n",
            "\u001b[0;32m/usr/local/lib/python3.10/dist-packages/pandas/util/_decorators.py\u001b[0m in \u001b[0;36mwrapper\u001b[0;34m(*args, **kwargs)\u001b[0m\n\u001b[1;32m    209\u001b[0m                 \u001b[0;32melse\u001b[0m\u001b[0;34m:\u001b[0m\u001b[0;34m\u001b[0m\u001b[0;34m\u001b[0m\u001b[0m\n\u001b[1;32m    210\u001b[0m                     \u001b[0mkwargs\u001b[0m\u001b[0;34m[\u001b[0m\u001b[0mnew_arg_name\u001b[0m\u001b[0;34m]\u001b[0m \u001b[0;34m=\u001b[0m \u001b[0mnew_arg_value\u001b[0m\u001b[0;34m\u001b[0m\u001b[0;34m\u001b[0m\u001b[0m\n\u001b[0;32m--> 211\u001b[0;31m             \u001b[0;32mreturn\u001b[0m \u001b[0mfunc\u001b[0m\u001b[0;34m(\u001b[0m\u001b[0;34m*\u001b[0m\u001b[0margs\u001b[0m\u001b[0;34m,\u001b[0m \u001b[0;34m**\u001b[0m\u001b[0mkwargs\u001b[0m\u001b[0;34m)\u001b[0m\u001b[0;34m\u001b[0m\u001b[0;34m\u001b[0m\u001b[0m\n\u001b[0m\u001b[1;32m    212\u001b[0m \u001b[0;34m\u001b[0m\u001b[0m\n\u001b[1;32m    213\u001b[0m         \u001b[0;32mreturn\u001b[0m \u001b[0mcast\u001b[0m\u001b[0;34m(\u001b[0m\u001b[0mF\u001b[0m\u001b[0;34m,\u001b[0m \u001b[0mwrapper\u001b[0m\u001b[0;34m)\u001b[0m\u001b[0;34m\u001b[0m\u001b[0;34m\u001b[0m\u001b[0m\n",
            "\u001b[0;32m/usr/local/lib/python3.10/dist-packages/pandas/io/formats/format.py\u001b[0m in \u001b[0;36mto_csv\u001b[0;34m(self, path_or_buf, encoding, sep, columns, index_label, mode, compression, quoting, quotechar, lineterminator, chunksize, date_format, doublequote, escapechar, errors, storage_options)\u001b[0m\n\u001b[1;32m   1187\u001b[0m             \u001b[0mformatter\u001b[0m\u001b[0;34m=\u001b[0m\u001b[0mself\u001b[0m\u001b[0;34m.\u001b[0m\u001b[0mfmt\u001b[0m\u001b[0;34m,\u001b[0m\u001b[0;34m\u001b[0m\u001b[0;34m\u001b[0m\u001b[0m\n\u001b[1;32m   1188\u001b[0m         )\n\u001b[0;32m-> 1189\u001b[0;31m         \u001b[0mcsv_formatter\u001b[0m\u001b[0;34m.\u001b[0m\u001b[0msave\u001b[0m\u001b[0;34m(\u001b[0m\u001b[0;34m)\u001b[0m\u001b[0;34m\u001b[0m\u001b[0;34m\u001b[0m\u001b[0m\n\u001b[0m\u001b[1;32m   1190\u001b[0m \u001b[0;34m\u001b[0m\u001b[0m\n\u001b[1;32m   1191\u001b[0m         \u001b[0;32mif\u001b[0m \u001b[0mcreated_buffer\u001b[0m\u001b[0;34m:\u001b[0m\u001b[0;34m\u001b[0m\u001b[0;34m\u001b[0m\u001b[0m\n",
            "\u001b[0;32m/usr/local/lib/python3.10/dist-packages/pandas/io/formats/csvs.py\u001b[0m in \u001b[0;36msave\u001b[0;34m(self)\u001b[0m\n\u001b[1;32m    239\u001b[0m         \"\"\"\n\u001b[1;32m    240\u001b[0m         \u001b[0;31m# apply compression and byte/text conversion\u001b[0m\u001b[0;34m\u001b[0m\u001b[0;34m\u001b[0m\u001b[0m\n\u001b[0;32m--> 241\u001b[0;31m         with get_handle(\n\u001b[0m\u001b[1;32m    242\u001b[0m             \u001b[0mself\u001b[0m\u001b[0;34m.\u001b[0m\u001b[0mfilepath_or_buffer\u001b[0m\u001b[0;34m,\u001b[0m\u001b[0;34m\u001b[0m\u001b[0;34m\u001b[0m\u001b[0m\n\u001b[1;32m    243\u001b[0m             \u001b[0mself\u001b[0m\u001b[0;34m.\u001b[0m\u001b[0mmode\u001b[0m\u001b[0;34m,\u001b[0m\u001b[0;34m\u001b[0m\u001b[0;34m\u001b[0m\u001b[0m\n",
            "\u001b[0;32m/usr/local/lib/python3.10/dist-packages/pandas/io/common.py\u001b[0m in \u001b[0;36mget_handle\u001b[0;34m(path_or_buf, mode, encoding, compression, memory_map, is_text, errors, storage_options)\u001b[0m\n\u001b[1;32m    854\u001b[0m         \u001b[0;32mif\u001b[0m \u001b[0mioargs\u001b[0m\u001b[0;34m.\u001b[0m\u001b[0mencoding\u001b[0m \u001b[0;32mand\u001b[0m \u001b[0;34m\"b\"\u001b[0m \u001b[0;32mnot\u001b[0m \u001b[0;32min\u001b[0m \u001b[0mioargs\u001b[0m\u001b[0;34m.\u001b[0m\u001b[0mmode\u001b[0m\u001b[0;34m:\u001b[0m\u001b[0;34m\u001b[0m\u001b[0;34m\u001b[0m\u001b[0m\n\u001b[1;32m    855\u001b[0m             \u001b[0;31m# Encoding\u001b[0m\u001b[0;34m\u001b[0m\u001b[0;34m\u001b[0m\u001b[0m\n\u001b[0;32m--> 856\u001b[0;31m             handle = open(\n\u001b[0m\u001b[1;32m    857\u001b[0m                 \u001b[0mhandle\u001b[0m\u001b[0;34m,\u001b[0m\u001b[0;34m\u001b[0m\u001b[0;34m\u001b[0m\u001b[0m\n\u001b[1;32m    858\u001b[0m                 \u001b[0mioargs\u001b[0m\u001b[0;34m.\u001b[0m\u001b[0mmode\u001b[0m\u001b[0;34m,\u001b[0m\u001b[0;34m\u001b[0m\u001b[0;34m\u001b[0m\u001b[0m\n",
            "\u001b[0;31mOSError\u001b[0m: [Errno 30] Read-only file system: 'quality_profiles.csv'"
          ]
        }
      ],
      "source": [
        "# Count the frequency of each normal profile that appears in the top 10 dissimilar lists\n",
        "normal_profile_counts = Counter(dissimilarity_df['Normal Profile Index'])\n",
        "\n",
        "# Get normal profiles with frequency >= 3\n",
        "frequent_normal_profile_indices = [int(profile) for profile, count in normal_profile_counts.items() if count >= 3]\n",
        "\n",
        "# Get details of the frequent normal profiles\n",
        "# quality_sets = normal_sets[normal_sets.index.isin(frequent_normal_profile_indices)]\n",
        "quality_sets = normal_sets.loc[frequent_normal_profile_indices]\n",
        "\n",
        "# Convert the Series to a DataFrame\n",
        "quality_sets_df = quality_sets.reset_index()\n",
        "quality_sets_df.columns = ['Original Index', 'Profile Set']\n",
        "\n",
        "# Save the quality sets DataFrame to CSV\n",
        "quality_sets_df.to_csv('quality_sets.csv', index=False)"
      ]
    },
    {
      "cell_type": "code",
      "execution_count": null,
      "metadata": {
        "id": "jcp1U43iTrxq"
      },
      "outputs": [],
      "source": [
        "quality_sets_df.info()"
      ]
    },
    {
      "cell_type": "code",
      "execution_count": null,
      "metadata": {
        "id": "p3M66BcgTt3g"
      },
      "outputs": [],
      "source": [
        "quality_sets_df.head(10)"
      ]
    },
    {
      "cell_type": "markdown",
      "metadata": {
        "id": "KhV3jJAdUGO_"
      },
      "source": [
        "# Naive & Expert"
      ]
    },
    {
      "cell_type": "code",
      "execution_count": null,
      "metadata": {
        "id": "5FIhsUfaTvTC"
      },
      "outputs": [],
      "source": [
        "# Calculate average dissimilarity score for each scam profile\n",
        "average_dissimilarity_scores = dissimilarity_df.groupby('Scam Profile Index')['Dissimilarity Score'].mean()\n",
        "\n",
        "# Show the result\n",
        "print(average_dissimilarity_scores)\n"
      ]
    },
    {
      "cell_type": "code",
      "execution_count": null,
      "metadata": {
        "id": "iuIdvHyDTwrc"
      },
      "outputs": [],
      "source": [
        "# Sort the DataFrame based on dissimilarity scores in descending order\n",
        "sorted_scores = average_dissimilarity_scores.sort_values(ascending=False)\n",
        "\n",
        "# Determine the number of profiles for 10%\n",
        "ten_percent_count = int(0.1 * len(sorted_scores))\n",
        "\n",
        "# Select the highest 10% of profiles for naive_sets\n",
        "naive_sets = sorted_scores.head(ten_percent_count)\n",
        "\n",
        "# Select the lowest 10% of profiles for expert_sets\n",
        "expert_sets = sorted_scores.tail(ten_percent_count)\n",
        "\n",
        "# Save to CSV\n",
        "naive_sets.to_csv('naive_sets.csv')\n",
        "expert_sets.to_csv('expert_sets.csv')\n"
      ]
    },
    {
      "cell_type": "code",
      "execution_count": null,
      "metadata": {
        "id": "5QM2BA1tTxvu"
      },
      "outputs": [],
      "source": [
        "naive_sets_series = scam_sets.loc[naive_sets.index]\n",
        "expert_sets_series = scam_sets.loc[expert_sets.index]\n"
      ]
    },
    {
      "cell_type": "code",
      "execution_count": null,
      "metadata": {
        "id": "KzwFw-s_TzHN"
      },
      "outputs": [],
      "source": [
        "naive_sets_series\n"
      ]
    },
    {
      "cell_type": "code",
      "execution_count": null,
      "metadata": {
        "id": "7rFQp9NDT0Ln"
      },
      "outputs": [],
      "source": [
        "# Step 1: Create {word, count=1} pair for each cell\n",
        "naive_word_counts = Counter()\n",
        "for word_set in naive_sets_series:\n",
        "    word_set = re.sub(r'[^a-zA-Z0-9\\s]', '', word_set).split()\n",
        "    naive_word_counts.update(word_set)\n",
        "\n",
        "# Step 2: Aggregate all counts at the word level for the entire column\n",
        "naive_word_counts_aggregated = dict(naive_word_counts)\n",
        "\n",
        "# Step 3: Get the top 20 words with their counts\n",
        "top_naive_words = dict(Counter(naive_word_counts_aggregated).most_common(20))\n",
        "\n",
        "# Creating the bar plot for Naive Sets\n",
        "plt.figure(figsize=(20, 6))\n",
        "plt.bar(top_naive_words.keys(), top_naive_words.values(), color='orange')\n",
        "plt.title('Top Words in Naive Sets and Their Counts')\n",
        "plt.xlabel('Words')\n",
        "plt.ylabel('Counts')\n",
        "plt.show()\n"
      ]
    },
    {
      "cell_type": "code",
      "execution_count": null,
      "metadata": {
        "id": "9qAuSeKwT1id"
      },
      "outputs": [],
      "source": [
        "# Step 1: Create {word, count=1} pair for each cell\n",
        "expert_word_counts = Counter()\n",
        "for word_set in expert_sets_series:\n",
        "    word_set = re.sub(r'[^a-zA-Z0-9\\s]', '', word_set).split()\n",
        "    expert_word_counts.update(word_set)\n",
        "\n",
        "# Step 2: Aggregate all counts at the word level for the entire column\n",
        "expert_word_counts_aggregated = dict(expert_word_counts)\n",
        "\n",
        "# Step 3: Get the top 20 words with their counts\n",
        "top_expert_words = dict(Counter(expert_word_counts_aggregated).most_common(20))\n",
        "\n",
        "# Creating the bar plot for Expert Sets\n",
        "plt.figure(figsize=(20, 6))\n",
        "plt.bar(top_expert_words.keys(), top_expert_words.values(), color='purple')\n",
        "plt.title('Top Words in Expert Sets and Their Counts')\n",
        "plt.xlabel('Words')\n",
        "plt.ylabel('Counts')\n",
        "plt.show()\n"
      ]
    },
    {
      "cell_type": "code",
      "execution_count": null,
      "metadata": {
        "id": "HCc4FpVBT3HO"
      },
      "outputs": [],
      "source": [
        "# nltk\n",
        "import nltk\n",
        "nltk.download('stopwords')\n",
        "from nltk.corpus import stopwords\n",
        "\n",
        "scam_sets_full = all_profile[all_profile['scam'] == 1][['description']].dropna()"
      ]
    },
    {
      "cell_type": "code",
      "execution_count": null,
      "metadata": {
        "id": "DK_uINyST4gL"
      },
      "outputs": [],
      "source": [
        "naive_sets_full = scam_sets_full.loc[naive_sets.index]\n",
        "expert_sets_full = scam_sets_full.loc[expert_sets.index]"
      ]
    },
    {
      "cell_type": "code",
      "execution_count": null,
      "metadata": {
        "id": "3ItCGJR0T5hJ"
      },
      "outputs": [],
      "source": [
        "# extract meta feature\n",
        "stopwords = set(stopwords.words('english'))\n",
        "\n",
        "def transform(df, col):\n",
        "    df['word_count'] = df[col].apply(lambda x: len(str(x).split()))\n",
        "    df['unique_word_count'] = df[col].apply(lambda x: len(set(str(x).split())))\n",
        "    df['stop_word_count'] = df[col].apply(lambda x: len([w for w in str(x).lower().split() if w in stopwords]))\n",
        "    df['mean_word_length'] = df[col].apply(lambda x: np.mean([len(w) for w in str(x).split()]))\n",
        "    df['char_count'] = df[col].apply(lambda x: len(str(x)))\n",
        "    return df"
      ]
    },
    {
      "cell_type": "code",
      "execution_count": null,
      "metadata": {
        "id": "lHe7HfGvT6pN"
      },
      "outputs": [],
      "source": [
        "transformed_naive_df = transform(naive_sets_full, 'description')\n",
        "transformed_naive_df"
      ]
    },
    {
      "cell_type": "code",
      "execution_count": null,
      "metadata": {
        "id": "HWBFcsRxT893"
      },
      "outputs": [],
      "source": [
        "transformed_expert_df = transform(expert_sets_full, 'description')\n",
        "transformed_expert_df"
      ]
    },
    {
      "cell_type": "code",
      "execution_count": null,
      "metadata": {
        "id": "uRWHYWy7T-RX"
      },
      "outputs": [],
      "source": [
        "meta_feature_list = ['word_count', 'unique_word_count', 'stop_word_count', 'mean_word_length', 'char_count']\n",
        "max_values = {'word_count': 600, 'unique_word_count': 300, 'stop_word_count': 300, 'mean_word_length': 20, 'char_count': 3000}\n",
        "widths = [20, 10, 10, 1, 100]\n",
        "\n",
        "from matplotlib.ticker import MaxNLocator\n",
        "\n",
        "def plot_distribution(df1, df2, feature_list, max_values):\n",
        "    fig, axes = plt.subplots(nrows=len(feature_list), ncols=2, figsize=(20, 5*len(feature_list)))\n",
        "\n",
        "    for i, feature in enumerate(feature_list):\n",
        "        ax1 = axes[i, 0]\n",
        "        ax2 = axes[i, 1]\n",
        "\n",
        "        ax1.hist(df1[feature], label='Naive', color='orange', width=widths[i])\n",
        "        ax1.set_title(f'Naive - {feature}')\n",
        "        ax1.legend()\n",
        "        ax1.set_xlim([0, max_values[feature]])\n",
        "        ax1.set_ylim([0, max(max(np.histogram(df1[feature])[0])+1000, max(np.histogram(df2[feature])[0])+1000)])\n",
        "        ax1.tick_params(axis='x', labelsize=8)\n",
        "        ax1.set_ylabel('Document Count')\n",
        "        ax1.xaxis.set_major_locator(MaxNLocator(integer=True, nbins=10))\n",
        "\n",
        "        ax2.hist(df2[feature], label='Expert', color='purple', width=widths[i])\n",
        "        ax2.set_title(f'Expert - {feature}')\n",
        "        ax2.legend()\n",
        "        ax2.set_xlim([0, max_values[feature]])\n",
        "        ax2.set_ylim([0, max(max(np.histogram(df1[feature])[0])+1000, max(np.histogram(df2[feature])[0])+1000)])\n",
        "        ax2.tick_params(axis='x', labelsize=8)\n",
        "        ax2.set_ylabel('Document Count')\n",
        "        ax2.xaxis.set_major_locator(MaxNLocator(integer=True, nbins=10))\n",
        "\n",
        "    plt.tight_layout()\n",
        "    plt.show()"
      ]
    },
    {
      "cell_type": "code",
      "execution_count": null,
      "metadata": {
        "id": "uCYU9zSNT_ki"
      },
      "outputs": [],
      "source": [
        "# Plot the distribution of meta features\n",
        "plot_distribution(transformed_naive_df, transformed_expert_df, meta_feature_list, max_values)"
      ]
    },
    {
      "cell_type": "code",
      "execution_count": null,
      "metadata": {
        "id": "Eyfigs9XUBDm"
      },
      "outputs": [],
      "source": [
        "transformed_naive_df[meta_feature_list].describe()"
      ]
    },
    {
      "cell_type": "code",
      "execution_count": null,
      "metadata": {
        "id": "519jnTYKUCNX"
      },
      "outputs": [],
      "source": [
        "transformed_expert_df[meta_feature_list].describe()"
      ]
    },
    {
      "cell_type": "markdown",
      "metadata": {
        "id": "oWce_J5bxiJe"
      },
      "source": [
        "# 3. other encoder"
      ]
    },
    {
      "cell_type": "code",
      "execution_count": 3,
      "metadata": {
        "id": "c1-Te1mvyjei"
      },
      "outputs": [],
      "source": [
        "import nltk\n",
        "from nltk.tokenize import word_tokenize"
      ]
    },
    {
      "cell_type": "code",
      "execution_count": 6,
      "metadata": {
        "colab": {
          "base_uri": "https://localhost:8080/"
        },
        "id": "hakVIrR82BNH",
        "outputId": "332cbe73-1a44-44bf-c556-bd80224cd245"
      },
      "outputs": [
        {
          "name": "stderr",
          "output_type": "stream",
          "text": [
            "[nltk_data] Downloading package punkt to /root/nltk_data...\n",
            "[nltk_data]   Package punkt is already up-to-date!\n"
          ]
        },
        {
          "data": {
            "text/plain": [
              "True"
            ]
          },
          "execution_count": 6,
          "metadata": {},
          "output_type": "execute_result"
        }
      ],
      "source": [
        "nltk.download('punkt')"
      ]
    },
    {
      "cell_type": "code",
      "execution_count": 4,
      "metadata": {
        "colab": {
          "base_uri": "https://localhost:8080/",
          "height": 842
        },
        "id": "QEq7Ytgd3ySW",
        "outputId": "d438e31f-6807-433c-f459-623d0be4953f"
      },
      "outputs": [],
      "source": [
        "all_profile = all_profile.dropna(subset = ['description'])"
      ]
    },
    {
      "cell_type": "code",
      "execution_count": 5,
      "metadata": {
        "id": "WVi6ZdzrScvj"
      },
      "outputs": [],
      "source": [
        "all_profile['tokenized'] = all_profile['description'].apply(word_tokenize)"
      ]
    },
    {
      "cell_type": "code",
      "execution_count": 6,
      "metadata": {
        "id": "HJTwE068SWJQ"
      },
      "outputs": [],
      "source": [
        "# Define a function to pad the sequences\n",
        "def pad_sequence(seq, max_len=100, padding_token='<PAD>'):\n",
        "    return seq[:max_len] + [padding_token]*(max_len - len(seq))\n",
        "\n",
        "# Pad the tokenized sequences\n",
        "all_profile['padded'] = all_profile['tokenized'].apply(lambda x: pad_sequence(x, max_len=100))"
      ]
    },
    {
      "cell_type": "code",
      "execution_count": 7,
      "metadata": {
        "id": "G_jtJ0K4UpsM"
      },
      "outputs": [],
      "source": [
        "from gensim.models import Word2Vec\n",
        "\n",
        "# w2v_model = Word2Vec(sentences=all_profile['tokenized'], vector_size=100, window=5, min_count=1, workers=4)\n",
        "\n",
        "# Save the model for future use\n",
        "# w2v_model.save(\"word2vec_model.bin\")"
      ]
    },
    {
      "cell_type": "code",
      "execution_count": 8,
      "metadata": {
        "id": "K8gG9VUIzAlY"
      },
      "outputs": [],
      "source": [
        "w2v_model = Word2Vec.load(\"word2vec_model.bin\")\n",
        "\n",
        "# Function to convert tokens to vectors using Word2Vec\n",
        "def tokens_to_vectors(tokens, w2v_model):\n",
        "    vectors = [w2v_model.wv[token] for token in tokens if token in w2v_model.wv]\n",
        "    if len(vectors) == 0:\n",
        "        # If no words in the description are in the Word2Vec vocabulary, return a zero vector\n",
        "        return np.zeros((100, w2v_model.vector_size))\n",
        "    else:\n",
        "        # Otherwise, return the mean of the vectors\n",
        "        return np.mean(vectors, axis=0)\n",
        "\n",
        "# Vectorize the padded sequences\n",
        "all_profile['vectors'] = all_profile['padded'].apply(lambda x: tokens_to_vectors(x, w2v_model))\n"
      ]
    },
    {
      "cell_type": "code",
      "execution_count": 9,
      "metadata": {
        "id": "KRpnnE-rXhO_"
      },
      "outputs": [],
      "source": [
        "from scipy.stats import pearsonr\n",
        "\n",
        "# Separate the scammer and normal profiles\n",
        "scammer_profiles = all_profile[all_profile['scam'] == 1]\n",
        "normal_profiles = all_profile[all_profile['scam'] == 0]\n",
        "\n",
        "# Calculate PCC for each scammer profile against all normal profiles\n",
        "pcc_results = {}\n",
        "\n",
        "for scam_index, scam_row in scammer_profiles.iterrows():\n",
        "    scammer_vector = scam_row['vectors']\n",
        "    scores = []\n",
        "    for normal_index, normal_row in normal_profiles.iterrows():\n",
        "        normal_vector = normal_row['vectors']\n",
        "        # Ensure both vectors have the same length\n",
        "        if len(scammer_vector) == len(normal_vector):\n",
        "            # Calculate the Pearson Correlation Coefficient\n",
        "            corr, _ = pearsonr(scammer_vector, normal_vector)\n",
        "            scores.append((normal_index, corr))\n",
        "\n",
        "    # Sort scores based on the similarity score\n",
        "    scores.sort(key=lambda x: x[1])\n",
        "    pcc_results[scam_index] = scores[:10]\n",
        "\n",
        "# pcc_results now contains the indices of the normal profiles ordered by their PCC similarity to each scammer profile.\n"
      ]
    },
    {
      "cell_type": "code",
      "execution_count": 10,
      "metadata": {},
      "outputs": [],
      "source": [
        "# Convert the results to a JSON-compatible format (assuming the indices are JSON-serializable)\n",
        "pcc_results_json = {str(scam_index): scores for scam_index, scores in pcc_results.items()}\n",
        "\n",
        "# Save the results to a JSON file\n",
        "with open('pcc_results.json', 'w') as file:\n",
        "    json.dump(pcc_results_json, file)"
      ]
    },
    {
      "cell_type": "markdown",
      "metadata": {},
      "source": [
        "# Trusted Profile"
      ]
    },
    {
      "cell_type": "code",
      "execution_count": null,
      "metadata": {},
      "outputs": [],
      "source": [
        "# To load the results from the JSON file later\n",
        "# with open('pcc_results.json', 'r') as file:\n",
        "#    loaded_pcc_results = json.load(file)"
      ]
    },
    {
      "cell_type": "code",
      "execution_count": 11,
      "metadata": {
        "id": "38s-eyDRZi3e"
      },
      "outputs": [],
      "source": [
        "# Flatten the list of normal indices from pcc_results\n",
        "normal_indices = [index for scores in pcc_results.values() for index, _ in scores]\n",
        "\n",
        "# Count the occurrences of each normal index\n",
        "index_counts = Counter(normal_indices)\n",
        "\n",
        "# Filter indices that occur more than twice\n",
        "trusted_indices = [index for index, count in index_counts.items() if count > 2]\n",
        "\n",
        "# Create a DataFrame for the trusted profiles\n",
        "trusted_profile = pd.DataFrame(trusted_indices, columns=['normal_profile_index'])\n",
        "\n",
        "# Now, trusted_profile contains the indices of normal profiles that have been flagged as similar to scammer profiles more than twice.\n"
      ]
    },
    {
      "cell_type": "code",
      "execution_count": 13,
      "metadata": {},
      "outputs": [],
      "source": [
        "# Save the DataFrame to a CSV file\n",
        "trusted_profile.to_csv('trusted_profile.csv', index=False)"
      ]
    },
    {
      "cell_type": "code",
      "execution_count": 15,
      "metadata": {},
      "outputs": [
        {
          "name": "stdout",
          "output_type": "stream",
          "text": [
            "<class 'pandas.core.frame.DataFrame'>\n",
            "RangeIndex: 158 entries, 0 to 157\n",
            "Data columns (total 1 columns):\n",
            " #   Column                Non-Null Count  Dtype\n",
            "---  ------                --------------  -----\n",
            " 0   normal_profile_index  158 non-null    int64\n",
            "dtypes: int64(1)\n",
            "memory usage: 1.4 KB\n"
          ]
        }
      ],
      "source": [
        "trusted_profile.info()"
      ]
    },
    {
      "cell_type": "code",
      "execution_count": 16,
      "metadata": {},
      "outputs": [],
      "source": [
        "# Map the trusted indices to the corresponding profiles in all_profile\n",
        "trusted_profiles_info = all_profile.loc[trusted_profile['normal_profile_index']]\n",
        "\n",
        "# Save this detailed trusted profile information to a CSV file\n",
        "trusted_profiles_info.to_csv('trusted_profiles_info.csv', index=False)\n"
      ]
    },
    {
      "cell_type": "code",
      "execution_count": 17,
      "metadata": {},
      "outputs": [
        {
          "data": {
            "text/html": [
              "<div>\n",
              "<style scoped>\n",
              "    .dataframe tbody tr th:only-of-type {\n",
              "        vertical-align: middle;\n",
              "    }\n",
              "\n",
              "    .dataframe tbody tr th {\n",
              "        vertical-align: top;\n",
              "    }\n",
              "\n",
              "    .dataframe thead th {\n",
              "        text-align: right;\n",
              "    }\n",
              "</style>\n",
              "<table border=\"1\" class=\"dataframe\">\n",
              "  <thead>\n",
              "    <tr style=\"text-align: right;\">\n",
              "      <th></th>\n",
              "      <th>Unnamed: 0.4</th>\n",
              "      <th>Unnamed: 0.3</th>\n",
              "      <th>Unnamed: 0.2</th>\n",
              "      <th>Unnamed: 0.1</th>\n",
              "      <th>Unnamed: 0</th>\n",
              "      <th>scam</th>\n",
              "      <th>username</th>\n",
              "      <th>age</th>\n",
              "      <th>gender</th>\n",
              "      <th>location</th>\n",
              "      <th>...</th>\n",
              "      <th>sexual_orientation</th>\n",
              "      <th>sex</th>\n",
              "      <th>description</th>\n",
              "      <th>age_bin</th>\n",
              "      <th>description_set</th>\n",
              "      <th>description_stem</th>\n",
              "      <th>description_stem_set</th>\n",
              "      <th>tokenized</th>\n",
              "      <th>padded</th>\n",
              "      <th>vectors</th>\n",
              "    </tr>\n",
              "  </thead>\n",
              "  <tbody>\n",
              "    <tr>\n",
              "      <th>41806</th>\n",
              "      <td>41806</td>\n",
              "      <td>41806</td>\n",
              "      <td>41806</td>\n",
              "      <td>41807</td>\n",
              "      <td>41807</td>\n",
              "      <td>0</td>\n",
              "      <td>g73</td>\n",
              "      <td>49.0</td>\n",
              "      <td>male</td>\n",
              "      <td>NaN</td>\n",
              "      <td>...</td>\n",
              "      <td>straight</td>\n",
              "      <td>male</td>\n",
              "      <td>6ft 200 lbs brown hair blue eyes kinda muscular</td>\n",
              "      <td>41-50</td>\n",
              "      <td>{'200', 'lbs', '6ft', 'kinda', 'blue', 'brown'...</td>\n",
              "      <td>6ft 200 lb brown hair blue eye kinda muscular</td>\n",
              "      <td>{'200', 'kinda', '6ft', 'blue', 'hair', 'brown...</td>\n",
              "      <td>[6ft, 200, lbs, brown, hair, blue, eyes, kinda...</td>\n",
              "      <td>[6ft, 200, lbs, brown, hair, blue, eyes, kinda...</td>\n",
              "      <td>[0.2646183, -0.11624893, 0.40922183, 0.3633533...</td>\n",
              "    </tr>\n",
              "    <tr>\n",
              "      <th>42056</th>\n",
              "      <td>42056</td>\n",
              "      <td>42056</td>\n",
              "      <td>42056</td>\n",
              "      <td>42057</td>\n",
              "      <td>42057</td>\n",
              "      <td>0</td>\n",
              "      <td>seth5575</td>\n",
              "      <td>43.0</td>\n",
              "      <td>male</td>\n",
              "      <td>NaN</td>\n",
              "      <td>...</td>\n",
              "      <td>straight</td>\n",
              "      <td>male</td>\n",
              "      <td>6-2 hazel eyes brown hair tattoo on left hip 228</td>\n",
              "      <td>41-50</td>\n",
              "      <td>{'hip', 'tattoo', 'left', '228', 'brown', 'hai...</td>\n",
              "      <td>62 hazel eye brown hair tattoo left hip 228</td>\n",
              "      <td>{'hip', 'tattoo', 'left', '228', 'brown', 'hai...</td>\n",
              "      <td>[6-2, hazel, eyes, brown, hair, tattoo, on, le...</td>\n",
              "      <td>[6-2, hazel, eyes, brown, hair, tattoo, on, le...</td>\n",
              "      <td>[0.32014996, 0.09127371, 0.17957363, 0.2051738...</td>\n",
              "    </tr>\n",
              "    <tr>\n",
              "      <th>23956</th>\n",
              "      <td>23956</td>\n",
              "      <td>23956</td>\n",
              "      <td>23956</td>\n",
              "      <td>23956</td>\n",
              "      <td>23956</td>\n",
              "      <td>0</td>\n",
              "      <td>jaco</td>\n",
              "      <td>50.0</td>\n",
              "      <td>male</td>\n",
              "      <td>NaN</td>\n",
              "      <td>...</td>\n",
              "      <td>straight</td>\n",
              "      <td>male</td>\n",
              "      <td>blue eyes black hair1,8cm.like hiking music da...</td>\n",
              "      <td>51-60</td>\n",
              "      <td>{'hiking', 'blue', 'dancing', 'music', 'eyes',...</td>\n",
              "      <td>blue eye black hair18cmlik hike music danc movi</td>\n",
              "      <td>{'movi', 'danc', 'hike', 'blue', 'eye', 'music...</td>\n",
              "      <td>[blue, eyes, black, hair1,8cm.like, hiking, mu...</td>\n",
              "      <td>[blue, eyes, black, hair1,8cm.like, hiking, mu...</td>\n",
              "      <td>[-0.20303264, 0.5074226, -0.4511016, 1.5733788...</td>\n",
              "    </tr>\n",
              "    <tr>\n",
              "      <th>42167</th>\n",
              "      <td>42167</td>\n",
              "      <td>42167</td>\n",
              "      <td>42167</td>\n",
              "      <td>42168</td>\n",
              "      <td>42168</td>\n",
              "      <td>0</td>\n",
              "      <td>kcmnica</td>\n",
              "      <td>68.0</td>\n",
              "      <td>male</td>\n",
              "      <td>NaN</td>\n",
              "      <td>...</td>\n",
              "      <td>straight</td>\n",
              "      <td>male</td>\n",
              "      <td>5'9\" 170lbs brown hair and eyes</td>\n",
              "      <td>61-70</td>\n",
              "      <td>{'5', '170lbs', 'brown', 'hair', 'eyes', '9'}</td>\n",
              "      <td>5 9 170lb brown hair eye</td>\n",
              "      <td>{'5', '170lb', 'brown', 'hair', 'eye', '9'}</td>\n",
              "      <td>[5, ', 9, '', 170lbs, brown, hair, and, eyes]</td>\n",
              "      <td>[5, ', 9, '', 170lbs, brown, hair, and, eyes, ...</td>\n",
              "      <td>[0.52543426, -0.20159969, 0.39067832, 0.252832...</td>\n",
              "    </tr>\n",
              "    <tr>\n",
              "      <th>43384</th>\n",
              "      <td>43384</td>\n",
              "      <td>43384</td>\n",
              "      <td>43384</td>\n",
              "      <td>43385</td>\n",
              "      <td>43385</td>\n",
              "      <td>0</td>\n",
              "      <td>NaN</td>\n",
              "      <td>26.0</td>\n",
              "      <td>male</td>\n",
              "      <td>NaN</td>\n",
              "      <td>...</td>\n",
              "      <td>straight</td>\n",
              "      <td>male</td>\n",
              "      <td>college football player studying criminal justice</td>\n",
              "      <td>21-30</td>\n",
              "      <td>{'criminal', 'college', 'football', 'studying'...</td>\n",
              "      <td>colleg footbal player studi crimin justic</td>\n",
              "      <td>{'justic', 'player', 'studi', 'crimin', 'footb...</td>\n",
              "      <td>[college, football, player, studying, criminal...</td>\n",
              "      <td>[college, football, player, studying, criminal...</td>\n",
              "      <td>[-0.1401991, 0.3329511, -0.0043475456, 0.30685...</td>\n",
              "    </tr>\n",
              "    <tr>\n",
              "      <th>6625</th>\n",
              "      <td>6625</td>\n",
              "      <td>6625</td>\n",
              "      <td>6625</td>\n",
              "      <td>6625</td>\n",
              "      <td>6625</td>\n",
              "      <td>0</td>\n",
              "      <td>pablo138</td>\n",
              "      <td>39.0</td>\n",
              "      <td>male</td>\n",
              "      <td>NaN</td>\n",
              "      <td>...</td>\n",
              "      <td>straight</td>\n",
              "      <td>male</td>\n",
              "      <td>sport\\nvegetarian\\nmusic\\nbook's\\ntraveling</td>\n",
              "      <td>31-40</td>\n",
              "      <td>{'sport', 'music', 'books', 'traveling', 'vege...</td>\n",
              "      <td>sport vegetarian music book travel</td>\n",
              "      <td>{'travel', 'sport', 'music', 'book', 'vegetari...</td>\n",
              "      <td>[sport, vegetarian, music, book's, traveling]</td>\n",
              "      <td>[sport, vegetarian, music, book's, traveling, ...</td>\n",
              "      <td>[-0.54302204, 0.5801574, -0.530595, 1.4164006,...</td>\n",
              "    </tr>\n",
              "    <tr>\n",
              "      <th>18346</th>\n",
              "      <td>18346</td>\n",
              "      <td>18346</td>\n",
              "      <td>18346</td>\n",
              "      <td>18346</td>\n",
              "      <td>18346</td>\n",
              "      <td>0</td>\n",
              "      <td>logan22</td>\n",
              "      <td>37.0</td>\n",
              "      <td>male</td>\n",
              "      <td>NaN</td>\n",
              "      <td>...</td>\n",
              "      <td>straight</td>\n",
              "      <td>male</td>\n",
              "      <td>sports,movies,shopping malls.restraunts.campin...</td>\n",
              "      <td>31-40</td>\n",
              "      <td>{'shopping', 'trails', 'mallsrestrauntscamping...</td>\n",
              "      <td>sport movi shop mallsrestrauntscamp natur trai...</td>\n",
              "      <td>{'shop', 'movi', 'sport', 'walk', 'natur', 'tr...</td>\n",
              "      <td>[sports, ,, movies, ,, shopping, malls.restrau...</td>\n",
              "      <td>[sports, ,, movies, ,, shopping, malls.restrau...</td>\n",
              "      <td>[-0.66813457, 0.34542465, -0.6980148, 1.195244...</td>\n",
              "    </tr>\n",
              "    <tr>\n",
              "      <th>41875</th>\n",
              "      <td>41875</td>\n",
              "      <td>41875</td>\n",
              "      <td>41875</td>\n",
              "      <td>41876</td>\n",
              "      <td>41876</td>\n",
              "      <td>0</td>\n",
              "      <td>heavyerin</td>\n",
              "      <td>54.0</td>\n",
              "      <td>male</td>\n",
              "      <td>NaN</td>\n",
              "      <td>...</td>\n",
              "      <td>straight</td>\n",
              "      <td>male</td>\n",
              "      <td>m gusta musica rock heavy .punk .toco guitarra</td>\n",
              "      <td>51-60</td>\n",
              "      <td>{'guitarra', 'gusta', 'toco', 'musica', 'punk'...</td>\n",
              "      <td>gusta musica rock heavi punk toco guitarra</td>\n",
              "      <td>{'guitarra', 'gusta', 'toco', 'musica', 'heavi...</td>\n",
              "      <td>[m, gusta, musica, rock, heavy, .punk, .toco, ...</td>\n",
              "      <td>[m, gusta, musica, rock, heavy, .punk, .toco, ...</td>\n",
              "      <td>[-0.028196884, 0.019903373, 0.27001536, 0.1315...</td>\n",
              "    </tr>\n",
              "    <tr>\n",
              "      <th>40013</th>\n",
              "      <td>40013</td>\n",
              "      <td>40013</td>\n",
              "      <td>40013</td>\n",
              "      <td>40014</td>\n",
              "      <td>40014</td>\n",
              "      <td>0</td>\n",
              "      <td>NaN</td>\n",
              "      <td>53.0</td>\n",
              "      <td>male</td>\n",
              "      <td>NaN</td>\n",
              "      <td>...</td>\n",
              "      <td>straight</td>\n",
              "      <td>male</td>\n",
              "      <td>country guy like horses fishing camping dancin...</td>\n",
              "      <td>51-60</td>\n",
              "      <td>{'horses', 'camping', 'like', 'reading', 'danc...</td>\n",
              "      <td>countri guy like hors fish camp danc read</td>\n",
              "      <td>{'read', 'like', 'camp', 'danc', 'guy', 'count...</td>\n",
              "      <td>[country, guy, like, horses, fishing, camping,...</td>\n",
              "      <td>[country, guy, like, horses, fishing, camping,...</td>\n",
              "      <td>[-0.8416077, 0.8598661, -0.7876544, 1.3684664,...</td>\n",
              "    </tr>\n",
              "    <tr>\n",
              "      <th>23864</th>\n",
              "      <td>23864</td>\n",
              "      <td>23864</td>\n",
              "      <td>23864</td>\n",
              "      <td>23864</td>\n",
              "      <td>23864</td>\n",
              "      <td>0</td>\n",
              "      <td>shane68</td>\n",
              "      <td>54.0</td>\n",
              "      <td>male</td>\n",
              "      <td>NaN</td>\n",
              "      <td>...</td>\n",
              "      <td>straight</td>\n",
              "      <td>male</td>\n",
              "      <td>6'2\",250lbs, in great shape. blonde hair, blue...</td>\n",
              "      <td>51-60</td>\n",
              "      <td>{'6', '2', 'blue', '250lbs', 'hair', 'great', ...</td>\n",
              "      <td>6 2 250lb great shape blond hair blue eye</td>\n",
              "      <td>{'250lb', '6', '2', 'blue', 'hair', 'great', '...</td>\n",
              "      <td>[6, ', 2, '', ,250lbs, ,, in, great, shape, .,...</td>\n",
              "      <td>[6, ', 2, '', ,250lbs, ,, in, great, shape, .,...</td>\n",
              "      <td>[0.05399147, 0.05043563, 0.10861419, 0.2296853...</td>\n",
              "    </tr>\n",
              "  </tbody>\n",
              "</table>\n",
              "<p>10 rows × 25 columns</p>\n",
              "</div>"
            ],
            "text/plain": [
              "       Unnamed: 0.4  Unnamed: 0.3  Unnamed: 0.2  Unnamed: 0.1  Unnamed: 0   \n",
              "41806         41806         41806         41806         41807       41807  \\\n",
              "42056         42056         42056         42056         42057       42057   \n",
              "23956         23956         23956         23956         23956       23956   \n",
              "42167         42167         42167         42167         42168       42168   \n",
              "43384         43384         43384         43384         43385       43385   \n",
              "6625           6625          6625          6625          6625        6625   \n",
              "18346         18346         18346         18346         18346       18346   \n",
              "41875         41875         41875         41875         41876       41876   \n",
              "40013         40013         40013         40013         40014       40014   \n",
              "23864         23864         23864         23864         23864       23864   \n",
              "\n",
              "       scam   username   age gender location  ... sexual_orientation   sex   \n",
              "41806     0        g73  49.0   male      NaN  ...           straight  male  \\\n",
              "42056     0   seth5575  43.0   male      NaN  ...           straight  male   \n",
              "23956     0       jaco  50.0   male      NaN  ...           straight  male   \n",
              "42167     0    kcmnica  68.0   male      NaN  ...           straight  male   \n",
              "43384     0        NaN  26.0   male      NaN  ...           straight  male   \n",
              "6625      0   pablo138  39.0   male      NaN  ...           straight  male   \n",
              "18346     0    logan22  37.0   male      NaN  ...           straight  male   \n",
              "41875     0  heavyerin  54.0   male      NaN  ...           straight  male   \n",
              "40013     0        NaN  53.0   male      NaN  ...           straight  male   \n",
              "23864     0    shane68  54.0   male      NaN  ...           straight  male   \n",
              "\n",
              "                                             description age_bin   \n",
              "41806    6ft 200 lbs brown hair blue eyes kinda muscular   41-50  \\\n",
              "42056   6-2 hazel eyes brown hair tattoo on left hip 228   41-50   \n",
              "23956  blue eyes black hair1,8cm.like hiking music da...   51-60   \n",
              "42167                    5'9\" 170lbs brown hair and eyes   61-70   \n",
              "43384  college football player studying criminal justice   21-30   \n",
              "6625         sport\\nvegetarian\\nmusic\\nbook's\\ntraveling   31-40   \n",
              "18346  sports,movies,shopping malls.restraunts.campin...   31-40   \n",
              "41875     m gusta musica rock heavy .punk .toco guitarra   51-60   \n",
              "40013  country guy like horses fishing camping dancin...   51-60   \n",
              "23864  6'2\",250lbs, in great shape. blonde hair, blue...   51-60   \n",
              "\n",
              "                                         description_set   \n",
              "41806  {'200', 'lbs', '6ft', 'kinda', 'blue', 'brown'...  \\\n",
              "42056  {'hip', 'tattoo', 'left', '228', 'brown', 'hai...   \n",
              "23956  {'hiking', 'blue', 'dancing', 'music', 'eyes',...   \n",
              "42167      {'5', '170lbs', 'brown', 'hair', 'eyes', '9'}   \n",
              "43384  {'criminal', 'college', 'football', 'studying'...   \n",
              "6625   {'sport', 'music', 'books', 'traveling', 'vege...   \n",
              "18346  {'shopping', 'trails', 'mallsrestrauntscamping...   \n",
              "41875  {'guitarra', 'gusta', 'toco', 'musica', 'punk'...   \n",
              "40013  {'horses', 'camping', 'like', 'reading', 'danc...   \n",
              "23864  {'6', '2', 'blue', '250lbs', 'hair', 'great', ...   \n",
              "\n",
              "                                        description_stem   \n",
              "41806      6ft 200 lb brown hair blue eye kinda muscular  \\\n",
              "42056        62 hazel eye brown hair tattoo left hip 228   \n",
              "23956    blue eye black hair18cmlik hike music danc movi   \n",
              "42167                           5 9 170lb brown hair eye   \n",
              "43384          colleg footbal player studi crimin justic   \n",
              "6625                  sport vegetarian music book travel   \n",
              "18346  sport movi shop mallsrestrauntscamp natur trai...   \n",
              "41875         gusta musica rock heavi punk toco guitarra   \n",
              "40013          countri guy like hors fish camp danc read   \n",
              "23864          6 2 250lb great shape blond hair blue eye   \n",
              "\n",
              "                                    description_stem_set   \n",
              "41806  {'200', 'kinda', '6ft', 'blue', 'hair', 'brown...  \\\n",
              "42056  {'hip', 'tattoo', 'left', '228', 'brown', 'hai...   \n",
              "23956  {'movi', 'danc', 'hike', 'blue', 'eye', 'music...   \n",
              "42167        {'5', '170lb', 'brown', 'hair', 'eye', '9'}   \n",
              "43384  {'justic', 'player', 'studi', 'crimin', 'footb...   \n",
              "6625   {'travel', 'sport', 'music', 'book', 'vegetari...   \n",
              "18346  {'shop', 'movi', 'sport', 'walk', 'natur', 'tr...   \n",
              "41875  {'guitarra', 'gusta', 'toco', 'musica', 'heavi...   \n",
              "40013  {'read', 'like', 'camp', 'danc', 'guy', 'count...   \n",
              "23864  {'250lb', '6', '2', 'blue', 'hair', 'great', '...   \n",
              "\n",
              "                                               tokenized   \n",
              "41806  [6ft, 200, lbs, brown, hair, blue, eyes, kinda...  \\\n",
              "42056  [6-2, hazel, eyes, brown, hair, tattoo, on, le...   \n",
              "23956  [blue, eyes, black, hair1,8cm.like, hiking, mu...   \n",
              "42167      [5, ', 9, '', 170lbs, brown, hair, and, eyes]   \n",
              "43384  [college, football, player, studying, criminal...   \n",
              "6625       [sport, vegetarian, music, book's, traveling]   \n",
              "18346  [sports, ,, movies, ,, shopping, malls.restrau...   \n",
              "41875  [m, gusta, musica, rock, heavy, .punk, .toco, ...   \n",
              "40013  [country, guy, like, horses, fishing, camping,...   \n",
              "23864  [6, ', 2, '', ,250lbs, ,, in, great, shape, .,...   \n",
              "\n",
              "                                                  padded   \n",
              "41806  [6ft, 200, lbs, brown, hair, blue, eyes, kinda...  \\\n",
              "42056  [6-2, hazel, eyes, brown, hair, tattoo, on, le...   \n",
              "23956  [blue, eyes, black, hair1,8cm.like, hiking, mu...   \n",
              "42167  [5, ', 9, '', 170lbs, brown, hair, and, eyes, ...   \n",
              "43384  [college, football, player, studying, criminal...   \n",
              "6625   [sport, vegetarian, music, book's, traveling, ...   \n",
              "18346  [sports, ,, movies, ,, shopping, malls.restrau...   \n",
              "41875  [m, gusta, musica, rock, heavy, .punk, .toco, ...   \n",
              "40013  [country, guy, like, horses, fishing, camping,...   \n",
              "23864  [6, ', 2, '', ,250lbs, ,, in, great, shape, .,...   \n",
              "\n",
              "                                                 vectors  \n",
              "41806  [0.2646183, -0.11624893, 0.40922183, 0.3633533...  \n",
              "42056  [0.32014996, 0.09127371, 0.17957363, 0.2051738...  \n",
              "23956  [-0.20303264, 0.5074226, -0.4511016, 1.5733788...  \n",
              "42167  [0.52543426, -0.20159969, 0.39067832, 0.252832...  \n",
              "43384  [-0.1401991, 0.3329511, -0.0043475456, 0.30685...  \n",
              "6625   [-0.54302204, 0.5801574, -0.530595, 1.4164006,...  \n",
              "18346  [-0.66813457, 0.34542465, -0.6980148, 1.195244...  \n",
              "41875  [-0.028196884, 0.019903373, 0.27001536, 0.1315...  \n",
              "40013  [-0.8416077, 0.8598661, -0.7876544, 1.3684664,...  \n",
              "23864  [0.05399147, 0.05043563, 0.10861419, 0.2296853...  \n",
              "\n",
              "[10 rows x 25 columns]"
            ]
          },
          "execution_count": 17,
          "metadata": {},
          "output_type": "execute_result"
        }
      ],
      "source": [
        "trusted_profiles_info.head(10)"
      ]
    },
    {
      "cell_type": "markdown",
      "metadata": {},
      "source": [
        " # Naive and Expert"
      ]
    },
    {
      "cell_type": "code",
      "execution_count": 18,
      "metadata": {},
      "outputs": [],
      "source": [
        "# Calculate the average PCC score for each scam profile\n",
        "average_pcc_scores = {}\n",
        "\n",
        "for scam_index, scores in pcc_results.items():\n",
        "    # Calculate the mean of the second element in the scores tuples\n",
        "    average_score = sum(score for _, score in scores) / len(scores)\n",
        "    average_pcc_scores[scam_index] = average_score\n",
        "\n",
        "# Now average_pcc_scores contains the average PCC score for each scam profile.\n"
      ]
    },
    {
      "cell_type": "code",
      "execution_count": 24,
      "metadata": {},
      "outputs": [],
      "source": [
        "# Sort the scammer profiles by their average PCC score in ascending order\n",
        "# the PCC now is actual similarity score, we want to descend the dissimilarity score\n",
        "sorted_by_pcc = sorted(average_pcc_scores.items(), key=lambda item: item[1])\n",
        "\n",
        "# Calculate the number of profiles in the top and bottom 10%\n",
        "ten_percent_count = int(len(sorted_by_pcc) * 0.1)\n",
        "\n",
        "# Get the top 10% as naive set\n",
        "naive_set = sorted_by_pcc[:ten_percent_count]\n",
        "\n",
        "# Get the bottom 10% as expert set\n",
        "expert_set = sorted_by_pcc[-ten_percent_count:]\n",
        "\n",
        "# Now naive_set and expert_set contains the highest and lowest 10% of scammer profiles based on average PCC score.\n",
        "\n",
        "# Convert the naive and expert sets to DataFrames\n",
        "naive_df = pd.DataFrame(naive_set, columns=['scam_profile_index', 'average_pcc_score'])\n",
        "expert_df = pd.DataFrame(expert_set, columns=['scam_profile_index', 'average_pcc_score'])\n",
        "\n",
        "# Save to CSV\n",
        "naive_df.to_csv('naive_set.csv', index=False)\n",
        "expert_df.to_csv('expert_set.csv', index=False)\n"
      ]
    },
    {
      "cell_type": "code",
      "execution_count": 36,
      "metadata": {},
      "outputs": [],
      "source": [
        "naive_sets_df = scammer_profiles.loc[naive_df.scam_profile_index]\n",
        "expert_sets_df = scammer_profiles.loc[expert_df.scam_profile_index]"
      ]
    },
    {
      "cell_type": "code",
      "execution_count": 37,
      "metadata": {},
      "outputs": [
        {
          "data": {
            "text/html": [
              "<div>\n",
              "<style scoped>\n",
              "    .dataframe tbody tr th:only-of-type {\n",
              "        vertical-align: middle;\n",
              "    }\n",
              "\n",
              "    .dataframe tbody tr th {\n",
              "        vertical-align: top;\n",
              "    }\n",
              "\n",
              "    .dataframe thead th {\n",
              "        text-align: right;\n",
              "    }\n",
              "</style>\n",
              "<table border=\"1\" class=\"dataframe\">\n",
              "  <thead>\n",
              "    <tr style=\"text-align: right;\">\n",
              "      <th></th>\n",
              "      <th>Unnamed: 0.4</th>\n",
              "      <th>Unnamed: 0.3</th>\n",
              "      <th>Unnamed: 0.2</th>\n",
              "      <th>Unnamed: 0.1</th>\n",
              "      <th>Unnamed: 0</th>\n",
              "      <th>scam</th>\n",
              "      <th>username</th>\n",
              "      <th>age</th>\n",
              "      <th>gender</th>\n",
              "      <th>location</th>\n",
              "      <th>...</th>\n",
              "      <th>sexual_orientation</th>\n",
              "      <th>sex</th>\n",
              "      <th>description</th>\n",
              "      <th>age_bin</th>\n",
              "      <th>description_set</th>\n",
              "      <th>description_stem</th>\n",
              "      <th>description_stem_set</th>\n",
              "      <th>tokenized</th>\n",
              "      <th>padded</th>\n",
              "      <th>vectors</th>\n",
              "    </tr>\n",
              "  </thead>\n",
              "  <tbody>\n",
              "    <tr>\n",
              "      <th>53961</th>\n",
              "      <td>53961</td>\n",
              "      <td>53961</td>\n",
              "      <td>53961</td>\n",
              "      <td>53979</td>\n",
              "      <td>451</td>\n",
              "      <td>1</td>\n",
              "      <td>NaN</td>\n",
              "      <td>44.0</td>\n",
              "      <td>male</td>\n",
              "      <td>NaN</td>\n",
              "      <td>...</td>\n",
              "      <td>straight</td>\n",
              "      <td>male</td>\n",
              "      <td>personal description i enjoy, swimming, and re...</td>\n",
              "      <td>41-50</td>\n",
              "      <td>{'mountain', 'cooking', 'swimming', 'outdoor',...</td>\n",
              "      <td>person descript enjoy swim read walk beach fis...</td>\n",
              "      <td>{'mountain', 'friend', 'walk', 'swim', 'play',...</td>\n",
              "      <td>[personal, description, i, enjoy, ,, swimming,...</td>\n",
              "      <td>[personal, description, i, enjoy, ,, swimming,...</td>\n",
              "      <td>[-0.80558956, 0.5875845, -0.7541808, 0.8259608...</td>\n",
              "    </tr>\n",
              "    <tr>\n",
              "      <th>54135</th>\n",
              "      <td>54135</td>\n",
              "      <td>54135</td>\n",
              "      <td>54135</td>\n",
              "      <td>54153</td>\n",
              "      <td>670</td>\n",
              "      <td>1</td>\n",
              "      <td>scott5</td>\n",
              "      <td>52.0</td>\n",
              "      <td>male</td>\n",
              "      <td>NaN</td>\n",
              "      <td>...</td>\n",
              "      <td>NaN</td>\n",
              "      <td>male</td>\n",
              "      <td>i am a person who is ambitious, optimistic, pl...</td>\n",
              "      <td>51-60</td>\n",
              "      <td>{'honest', 'person', 'sincere', 'playful', 'pa...</td>\n",
              "      <td>person ambiti optimist play hard work devot in...</td>\n",
              "      <td>{'honest', 'life', 'person', 'trust', 'witti',...</td>\n",
              "      <td>[i, am, a, person, who, is, ambitious, ,, opti...</td>\n",
              "      <td>[i, am, a, person, who, is, ambitious, ,, opti...</td>\n",
              "      <td>[-1.1550654, -0.13971026, -0.25538865, 0.30358...</td>\n",
              "    </tr>\n",
              "    <tr>\n",
              "      <th>55892</th>\n",
              "      <td>55892</td>\n",
              "      <td>55892</td>\n",
              "      <td>55892</td>\n",
              "      <td>55956</td>\n",
              "      <td>2473</td>\n",
              "      <td>1</td>\n",
              "      <td>davemilly</td>\n",
              "      <td>57.0</td>\n",
              "      <td>male</td>\n",
              "      <td>NaN</td>\n",
              "      <td>...</td>\n",
              "      <td>NaN</td>\n",
              "      <td>male</td>\n",
              "      <td>i am a very simple,honest,sincere,respectful,r...</td>\n",
              "      <td>51-60</td>\n",
              "      <td>{'thick', 'relocate', 'tribewhat', 'art', 'wor...</td>\n",
              "      <td>simpl honest sincer respect respons care love ...</td>\n",
              "      <td>{'thick', 'languag', 'pretti', 'tribewhat', 'a...</td>\n",
              "      <td>[i, am, a, very, simple, ,, honest, ,, sincere...</td>\n",
              "      <td>[i, am, a, very, simple, ,, honest, ,, sincere...</td>\n",
              "      <td>[-0.7559558, 0.20768566, -0.3842677, 0.1182070...</td>\n",
              "    </tr>\n",
              "    <tr>\n",
              "      <th>52283</th>\n",
              "      <td>52283</td>\n",
              "      <td>52283</td>\n",
              "      <td>52283</td>\n",
              "      <td>52288</td>\n",
              "      <td>1417</td>\n",
              "      <td>1</td>\n",
              "      <td>wan2mingle</td>\n",
              "      <td>34.0</td>\n",
              "      <td>female</td>\n",
              "      <td>NaN</td>\n",
              "      <td>...</td>\n",
              "      <td>NaN</td>\n",
              "      <td>female</td>\n",
              "      <td>i’m my own lady and i am comfortable with my o...</td>\n",
              "      <td>31-40</td>\n",
              "      <td>{'ordinary', 'special', 'affectionatei', 'noth...</td>\n",
              "      <td>ladi comfort lifei beauti kind respect wellspo...</td>\n",
              "      <td>{'special', 'affectionatei', 'noth', 'ordinari...</td>\n",
              "      <td>[i, ’, m, my, own, lady, and, i, am, comfortab...</td>\n",
              "      <td>[i, ’, m, my, own, lady, and, i, am, comfortab...</td>\n",
              "      <td>[-0.6850686, 0.16802129, -0.2531759, -0.054238...</td>\n",
              "    </tr>\n",
              "    <tr>\n",
              "      <th>54182</th>\n",
              "      <td>54182</td>\n",
              "      <td>54182</td>\n",
              "      <td>54182</td>\n",
              "      <td>54200</td>\n",
              "      <td>717</td>\n",
              "      <td>1</td>\n",
              "      <td>gl64</td>\n",
              "      <td>54.0</td>\n",
              "      <td>male</td>\n",
              "      <td>NaN</td>\n",
              "      <td>...</td>\n",
              "      <td>NaN</td>\n",
              "      <td>male</td>\n",
              "      <td>well, i pride myself in being compassionate, a...</td>\n",
              "      <td>51-60</td>\n",
              "      <td>{'evolved', 'openness', 'best', 'art', 'consid...</td>\n",
              "      <td>well pride compassion awar evolv least evolv a...</td>\n",
              "      <td>{'best', 'art', 'fine', 'optimist', 'flaw', 'v...</td>\n",
              "      <td>[well, ,, i, pride, myself, in, being, compass...</td>\n",
              "      <td>[well, ,, i, pride, myself, in, being, compass...</td>\n",
              "      <td>[-0.58094573, 0.35575077, -0.4412093, 0.202413...</td>\n",
              "    </tr>\n",
              "  </tbody>\n",
              "</table>\n",
              "<p>5 rows × 25 columns</p>\n",
              "</div>"
            ],
            "text/plain": [
              "       Unnamed: 0.4  Unnamed: 0.3  Unnamed: 0.2  Unnamed: 0.1  Unnamed: 0   \n",
              "53961         53961         53961         53961         53979         451  \\\n",
              "54135         54135         54135         54135         54153         670   \n",
              "55892         55892         55892         55892         55956        2473   \n",
              "52283         52283         52283         52283         52288        1417   \n",
              "54182         54182         54182         54182         54200         717   \n",
              "\n",
              "       scam    username   age  gender location  ... sexual_orientation   \n",
              "53961     1         NaN  44.0    male      NaN  ...           straight  \\\n",
              "54135     1      scott5  52.0    male      NaN  ...                NaN   \n",
              "55892     1   davemilly  57.0    male      NaN  ...                NaN   \n",
              "52283     1  wan2mingle  34.0  female      NaN  ...                NaN   \n",
              "54182     1        gl64  54.0    male      NaN  ...                NaN   \n",
              "\n",
              "          sex                                        description age_bin   \n",
              "53961    male  personal description i enjoy, swimming, and re...   41-50  \\\n",
              "54135    male  i am a person who is ambitious, optimistic, pl...   51-60   \n",
              "55892    male  i am a very simple,honest,sincere,respectful,r...   51-60   \n",
              "52283  female  i’m my own lady and i am comfortable with my o...   31-40   \n",
              "54182    male  well, i pride myself in being compassionate, a...   51-60   \n",
              "\n",
              "                                         description_set   \n",
              "53961  {'mountain', 'cooking', 'swimming', 'outdoor',...  \\\n",
              "54135  {'honest', 'person', 'sincere', 'playful', 'pa...   \n",
              "55892  {'thick', 'relocate', 'tribewhat', 'art', 'wor...   \n",
              "52283  {'ordinary', 'special', 'affectionatei', 'noth...   \n",
              "54182  {'evolved', 'openness', 'best', 'art', 'consid...   \n",
              "\n",
              "                                        description_stem   \n",
              "53961  person descript enjoy swim read walk beach fis...  \\\n",
              "54135  person ambiti optimist play hard work devot in...   \n",
              "55892  simpl honest sincer respect respons care love ...   \n",
              "52283  ladi comfort lifei beauti kind respect wellspo...   \n",
              "54182  well pride compassion awar evolv least evolv a...   \n",
              "\n",
              "                                    description_stem_set   \n",
              "53961  {'mountain', 'friend', 'walk', 'swim', 'play',...  \\\n",
              "54135  {'honest', 'life', 'person', 'trust', 'witti',...   \n",
              "55892  {'thick', 'languag', 'pretti', 'tribewhat', 'a...   \n",
              "52283  {'special', 'affectionatei', 'noth', 'ordinari...   \n",
              "54182  {'best', 'art', 'fine', 'optimist', 'flaw', 'v...   \n",
              "\n",
              "                                               tokenized   \n",
              "53961  [personal, description, i, enjoy, ,, swimming,...  \\\n",
              "54135  [i, am, a, person, who, is, ambitious, ,, opti...   \n",
              "55892  [i, am, a, very, simple, ,, honest, ,, sincere...   \n",
              "52283  [i, ’, m, my, own, lady, and, i, am, comfortab...   \n",
              "54182  [well, ,, i, pride, myself, in, being, compass...   \n",
              "\n",
              "                                                  padded   \n",
              "53961  [personal, description, i, enjoy, ,, swimming,...  \\\n",
              "54135  [i, am, a, person, who, is, ambitious, ,, opti...   \n",
              "55892  [i, am, a, very, simple, ,, honest, ,, sincere...   \n",
              "52283  [i, ’, m, my, own, lady, and, i, am, comfortab...   \n",
              "54182  [well, ,, i, pride, myself, in, being, compass...   \n",
              "\n",
              "                                                 vectors  \n",
              "53961  [-0.80558956, 0.5875845, -0.7541808, 0.8259608...  \n",
              "54135  [-1.1550654, -0.13971026, -0.25538865, 0.30358...  \n",
              "55892  [-0.7559558, 0.20768566, -0.3842677, 0.1182070...  \n",
              "52283  [-0.6850686, 0.16802129, -0.2531759, -0.054238...  \n",
              "54182  [-0.58094573, 0.35575077, -0.4412093, 0.202413...  \n",
              "\n",
              "[5 rows x 25 columns]"
            ]
          },
          "execution_count": 37,
          "metadata": {},
          "output_type": "execute_result"
        }
      ],
      "source": [
        "expert_sets_df.head()"
      ]
    },
    {
      "cell_type": "code",
      "execution_count": 38,
      "metadata": {},
      "outputs": [
        {
          "data": {
            "image/png": "[encoded data removed]",
            "text/plain": [
              "<Figure size 2000x600 with 1 Axes>"
            ]
          },
          "metadata": {},
          "output_type": "display_data"
        }
      ],
      "source": [
        "# Step 1: Create {word, count=1} pair for each cell\n",
        "naive_word_counts = Counter()\n",
        "for word_set in naive_sets_df.description_stem_set:\n",
        "    word_set = re.sub(r'[^a-zA-Z0-9\\s]', '', word_set).split()\n",
        "    naive_word_counts.update(word_set)\n",
        "\n",
        "# Step 2: Aggregate all counts at the word level for the entire column\n",
        "naive_word_counts_aggregated = dict(naive_word_counts)\n",
        "\n",
        "# Step 3: Get the top 20 words with their counts\n",
        "top_naive_words = dict(Counter(naive_word_counts_aggregated).most_common(20))\n",
        "\n",
        "# Creating the bar plot for Naive Sets\n",
        "plt.figure(figsize=(20, 6))\n",
        "plt.bar(top_naive_words.keys(), top_naive_words.values(), color='orange')\n",
        "plt.title('Top Words in Naive Sets and Their Counts')\n",
        "plt.xlabel('Words')\n",
        "plt.ylabel('Counts')\n",
        "plt.show()"
      ]
    },
    {
      "cell_type": "code",
      "execution_count": 39,
      "metadata": {},
      "outputs": [
        {
          "data": {
            "image/png": "[encoded data removed]",
            "text/plain": [
              "<Figure size 2000x600 with 1 Axes>"
            ]
          },
          "metadata": {},
          "output_type": "display_data"
        }
      ],
      "source": [
        "# Step 1: Create {word, count=1} pair for each cell\n",
        "expert_word_counts = Counter()\n",
        "for word_set in expert_sets_df.description_stem_set:\n",
        "    word_set = re.sub(r'[^a-zA-Z0-9\\s]', '', word_set).split()\n",
        "    expert_word_counts.update(word_set)\n",
        "\n",
        "# Step 2: Aggregate all counts at the word level for the entire column\n",
        "expert_word_counts_aggregated = dict(expert_word_counts)\n",
        "\n",
        "# Step 3: Get the top 20 words with their counts\n",
        "top_expert_words = dict(Counter(expert_word_counts_aggregated).most_common(20))\n",
        "\n",
        "# Creating the bar plot for Expert Sets\n",
        "plt.figure(figsize=(20, 6))\n",
        "plt.bar(top_expert_words.keys(), top_expert_words.values(), color='purple')\n",
        "plt.title('Top Words in Expert Sets and Their Counts')\n",
        "plt.xlabel('Words')\n",
        "plt.ylabel('Counts')\n",
        "plt.show()\n"
      ]
    },
    {
      "cell_type": "code",
      "execution_count": 42,
      "metadata": {},
      "outputs": [
        {
          "name": "stderr",
          "output_type": "stream",
          "text": [
            "[nltk_data] Downloading package stopwords to\n",
            "[nltk_data]     C:\\Users\\shiyir\\AppData\\Roaming\\nltk_data...\n",
            "[nltk_data]   Unzipping corpora\\stopwords.zip.\n"
          ]
        }
      ],
      "source": [
        "# extract meta feature\n",
        "import nltk\n",
        "nltk.download('stopwords')\n",
        "from nltk.corpus import stopwords\n",
        "stopwords = set(stopwords.words('english'))\n",
        "\n",
        "def transform(df, col):\n",
        "    df['word_count'] = df[col].apply(lambda x: len(str(x).split()))\n",
        "    df['unique_word_count'] = df[col].apply(lambda x: len(set(str(x).split())))\n",
        "    df['stop_word_count'] = df[col].apply(lambda x: len([w for w in str(x).lower().split() if w in stopwords]))\n",
        "    df['mean_word_length'] = df[col].apply(lambda x: np.mean([len(w) for w in str(x).split()]))\n",
        "    df['char_count'] = df[col].apply(lambda x: len(str(x)))\n",
        "    return df"
      ]
    },
    {
      "cell_type": "code",
      "execution_count": 43,
      "metadata": {},
      "outputs": [],
      "source": [
        "transformed_naive_df = transform(naive_sets_df, 'description')\n",
        "transformed_expert_df = transform(expert_sets_df, 'description')"
      ]
    },
    {
      "cell_type": "code",
      "execution_count": 45,
      "metadata": {},
      "outputs": [],
      "source": [
        "meta_feature_list = ['word_count', 'unique_word_count', 'stop_word_count', 'mean_word_length', 'char_count']\n",
        "max_values = {'word_count': 600, 'unique_word_count': 300, 'stop_word_count': 300, 'mean_word_length': 20, 'char_count': 3000}\n",
        "widths = [20, 10, 10, 1, 100]\n",
        "\n",
        "from matplotlib.ticker import MaxNLocator\n",
        "\n",
        "def plot_distribution(df1, df2, feature_list, max_values):\n",
        "    fig, axes = plt.subplots(nrows=len(feature_list), ncols=2, figsize=(20, 5*len(feature_list)))\n",
        "\n",
        "    for i, feature in enumerate(feature_list):\n",
        "        ax1 = axes[i, 0]\n",
        "        ax2 = axes[i, 1]\n",
        "\n",
        "        ax1.hist(df1[feature], label='Naive', color='orange', width=widths[i])\n",
        "        ax1.set_title(f'Naive - {feature}')\n",
        "        ax1.legend()\n",
        "        ax1.set_xlim([0, max_values[feature]])\n",
        "        ax1.set_ylim([0, max(max(np.histogram(df1[feature])[0])+1000, max(np.histogram(df2[feature])[0])+1000)])\n",
        "        ax1.tick_params(axis='x', labelsize=8)\n",
        "        ax1.set_ylabel('Document Count')\n",
        "        ax1.xaxis.set_major_locator(MaxNLocator(integer=True, nbins=10))\n",
        "\n",
        "        ax2.hist(df2[feature], label='Expert', color='purple', width=widths[i])\n",
        "        ax2.set_title(f'Expert - {feature}')\n",
        "        ax2.legend()\n",
        "        ax2.set_xlim([0, max_values[feature]])\n",
        "        ax2.set_ylim([0, max(max(np.histogram(df1[feature])[0])+1000, max(np.histogram(df2[feature])[0])+1000)])\n",
        "        ax2.tick_params(axis='x', labelsize=8)\n",
        "        ax2.set_ylabel('Document Count')\n",
        "        ax2.xaxis.set_major_locator(MaxNLocator(integer=True, nbins=10))\n",
        "\n",
        "    plt.tight_layout()\n",
        "    plt.show()"
      ]
    },
    {
      "cell_type": "code",
      "execution_count": 46,
      "metadata": {},
      "outputs": [
        {
          "data": {
            "image/png": "[encoded data removed]",
            "text/plain": [
              "<Figure size 2000x2500 with 10 Axes>"
            ]
          },
          "metadata": {},
          "output_type": "display_data"
        }
      ],
      "source": [
        "# Plot the distribution of meta features\n",
        "plot_distribution(transformed_naive_df, transformed_expert_df, meta_feature_list, max_values)"
      ]
    },
    {
      "cell_type": "code",
      "execution_count": 47,
      "metadata": {},
      "outputs": [
        {
          "data": {
            "text/html": [
              "<div>\n",
              "<style scoped>\n",
              "    .dataframe tbody tr th:only-of-type {\n",
              "        vertical-align: middle;\n",
              "    }\n",
              "\n",
              "    .dataframe tbody tr th {\n",
              "        vertical-align: top;\n",
              "    }\n",
              "\n",
              "    .dataframe thead th {\n",
              "        text-align: right;\n",
              "    }\n",
              "</style>\n",
              "<table border=\"1\" class=\"dataframe\">\n",
              "  <thead>\n",
              "    <tr style=\"text-align: right;\">\n",
              "      <th></th>\n",
              "      <th>word_count</th>\n",
              "      <th>unique_word_count</th>\n",
              "      <th>stop_word_count</th>\n",
              "      <th>mean_word_length</th>\n",
              "      <th>char_count</th>\n",
              "    </tr>\n",
              "  </thead>\n",
              "  <tbody>\n",
              "    <tr>\n",
              "      <th>count</th>\n",
              "      <td>545.000000</td>\n",
              "      <td>545.000000</td>\n",
              "      <td>545.000000</td>\n",
              "      <td>545.000000</td>\n",
              "      <td>545.000000</td>\n",
              "    </tr>\n",
              "    <tr>\n",
              "      <th>mean</th>\n",
              "      <td>69.091743</td>\n",
              "      <td>43.130275</td>\n",
              "      <td>36.688073</td>\n",
              "      <td>4.193805</td>\n",
              "      <td>351.082569</td>\n",
              "    </tr>\n",
              "    <tr>\n",
              "      <th>std</th>\n",
              "      <td>109.316135</td>\n",
              "      <td>46.362894</td>\n",
              "      <td>58.965016</td>\n",
              "      <td>0.934014</td>\n",
              "      <td>553.123127</td>\n",
              "    </tr>\n",
              "    <tr>\n",
              "      <th>min</th>\n",
              "      <td>2.000000</td>\n",
              "      <td>2.000000</td>\n",
              "      <td>0.000000</td>\n",
              "      <td>2.600000</td>\n",
              "      <td>14.000000</td>\n",
              "    </tr>\n",
              "    <tr>\n",
              "      <th>25%</th>\n",
              "      <td>16.000000</td>\n",
              "      <td>14.000000</td>\n",
              "      <td>8.000000</td>\n",
              "      <td>3.769231</td>\n",
              "      <td>81.000000</td>\n",
              "    </tr>\n",
              "    <tr>\n",
              "      <th>50%</th>\n",
              "      <td>34.000000</td>\n",
              "      <td>28.000000</td>\n",
              "      <td>18.000000</td>\n",
              "      <td>4.043478</td>\n",
              "      <td>178.000000</td>\n",
              "    </tr>\n",
              "    <tr>\n",
              "      <th>75%</th>\n",
              "      <td>82.000000</td>\n",
              "      <td>55.000000</td>\n",
              "      <td>45.000000</td>\n",
              "      <td>4.391304</td>\n",
              "      <td>406.000000</td>\n",
              "    </tr>\n",
              "    <tr>\n",
              "      <th>max</th>\n",
              "      <td>1140.000000</td>\n",
              "      <td>384.000000</td>\n",
              "      <td>636.000000</td>\n",
              "      <td>13.750000</td>\n",
              "      <td>5538.000000</td>\n",
              "    </tr>\n",
              "  </tbody>\n",
              "</table>\n",
              "</div>"
            ],
            "text/plain": [
              "        word_count  unique_word_count  stop_word_count  mean_word_length   \n",
              "count   545.000000         545.000000       545.000000        545.000000  \\\n",
              "mean     69.091743          43.130275        36.688073          4.193805   \n",
              "std     109.316135          46.362894        58.965016          0.934014   \n",
              "min       2.000000           2.000000         0.000000          2.600000   \n",
              "25%      16.000000          14.000000         8.000000          3.769231   \n",
              "50%      34.000000          28.000000        18.000000          4.043478   \n",
              "75%      82.000000          55.000000        45.000000          4.391304   \n",
              "max    1140.000000         384.000000       636.000000         13.750000   \n",
              "\n",
              "        char_count  \n",
              "count   545.000000  \n",
              "mean    351.082569  \n",
              "std     553.123127  \n",
              "min      14.000000  \n",
              "25%      81.000000  \n",
              "50%     178.000000  \n",
              "75%     406.000000  \n",
              "max    5538.000000  "
            ]
          },
          "execution_count": 47,
          "metadata": {},
          "output_type": "execute_result"
        }
      ],
      "source": [
        "transformed_naive_df[meta_feature_list].describe()"
      ]
    },
    {
      "cell_type": "code",
      "execution_count": 48,
      "metadata": {},
      "outputs": [
        {
          "data": {
            "text/html": [
              "<div>\n",
              "<style scoped>\n",
              "    .dataframe tbody tr th:only-of-type {\n",
              "        vertical-align: middle;\n",
              "    }\n",
              "\n",
              "    .dataframe tbody tr th {\n",
              "        vertical-align: top;\n",
              "    }\n",
              "\n",
              "    .dataframe thead th {\n",
              "        text-align: right;\n",
              "    }\n",
              "</style>\n",
              "<table border=\"1\" class=\"dataframe\">\n",
              "  <thead>\n",
              "    <tr style=\"text-align: right;\">\n",
              "      <th></th>\n",
              "      <th>word_count</th>\n",
              "      <th>unique_word_count</th>\n",
              "      <th>stop_word_count</th>\n",
              "      <th>mean_word_length</th>\n",
              "      <th>char_count</th>\n",
              "    </tr>\n",
              "  </thead>\n",
              "  <tbody>\n",
              "    <tr>\n",
              "      <th>count</th>\n",
              "      <td>545.000000</td>\n",
              "      <td>545.000000</td>\n",
              "      <td>545.000000</td>\n",
              "      <td>545.000000</td>\n",
              "      <td>545.000000</td>\n",
              "    </tr>\n",
              "    <tr>\n",
              "      <th>mean</th>\n",
              "      <td>102.381651</td>\n",
              "      <td>70.115596</td>\n",
              "      <td>45.080734</td>\n",
              "      <td>4.738445</td>\n",
              "      <td>574.260550</td>\n",
              "    </tr>\n",
              "    <tr>\n",
              "      <th>std</th>\n",
              "      <td>98.649489</td>\n",
              "      <td>53.661413</td>\n",
              "      <td>47.814986</td>\n",
              "      <td>0.708434</td>\n",
              "      <td>536.266521</td>\n",
              "    </tr>\n",
              "    <tr>\n",
              "      <th>min</th>\n",
              "      <td>3.000000</td>\n",
              "      <td>3.000000</td>\n",
              "      <td>1.000000</td>\n",
              "      <td>2.857143</td>\n",
              "      <td>14.000000</td>\n",
              "    </tr>\n",
              "    <tr>\n",
              "      <th>25%</th>\n",
              "      <td>35.000000</td>\n",
              "      <td>30.000000</td>\n",
              "      <td>13.000000</td>\n",
              "      <td>4.318182</td>\n",
              "      <td>202.000000</td>\n",
              "    </tr>\n",
              "    <tr>\n",
              "      <th>50%</th>\n",
              "      <td>73.000000</td>\n",
              "      <td>56.000000</td>\n",
              "      <td>28.000000</td>\n",
              "      <td>4.622951</td>\n",
              "      <td>426.000000</td>\n",
              "    </tr>\n",
              "    <tr>\n",
              "      <th>75%</th>\n",
              "      <td>146.000000</td>\n",
              "      <td>99.000000</td>\n",
              "      <td>64.000000</td>\n",
              "      <td>5.063830</td>\n",
              "      <td>793.000000</td>\n",
              "    </tr>\n",
              "    <tr>\n",
              "      <th>max</th>\n",
              "      <td>934.000000</td>\n",
              "      <td>403.000000</td>\n",
              "      <td>449.000000</td>\n",
              "      <td>9.714286</td>\n",
              "      <td>4934.000000</td>\n",
              "    </tr>\n",
              "  </tbody>\n",
              "</table>\n",
              "</div>"
            ],
            "text/plain": [
              "       word_count  unique_word_count  stop_word_count  mean_word_length   \n",
              "count  545.000000         545.000000       545.000000        545.000000  \\\n",
              "mean   102.381651          70.115596        45.080734          4.738445   \n",
              "std     98.649489          53.661413        47.814986          0.708434   \n",
              "min      3.000000           3.000000         1.000000          2.857143   \n",
              "25%     35.000000          30.000000        13.000000          4.318182   \n",
              "50%     73.000000          56.000000        28.000000          4.622951   \n",
              "75%    146.000000          99.000000        64.000000          5.063830   \n",
              "max    934.000000         403.000000       449.000000          9.714286   \n",
              "\n",
              "        char_count  \n",
              "count   545.000000  \n",
              "mean    574.260550  \n",
              "std     536.266521  \n",
              "min      14.000000  \n",
              "25%     202.000000  \n",
              "50%     426.000000  \n",
              "75%     793.000000  \n",
              "max    4934.000000  "
            ]
          },
          "execution_count": 48,
          "metadata": {},
          "output_type": "execute_result"
        }
      ],
      "source": [
        "transformed_expert_df[meta_feature_list].describe()"
      ]
    }
  ],
  "metadata": {
    "colab": {
      "collapsed_sections": [
        "5R15oGWpxaZI",
        "KhV3jJAdUGO_"
      ],
      "provenance": []
    },
    "kernelspec": {
      "display_name": "Python 3",
      "name": "python3"
    },
    "language_info": {
      "codemirror_mode": {
        "name": "ipython",
        "version": 3
      },
      "file_extension": ".py",
      "mimetype": "text/x-python",
      "name": "python",
      "nbconvert_exporter": "python",
      "pygments_lexer": "ipython3",
      "version": "3.11.3"
    }
  },
  "nbformat": 4,
  "nbformat_minor": 0
}
